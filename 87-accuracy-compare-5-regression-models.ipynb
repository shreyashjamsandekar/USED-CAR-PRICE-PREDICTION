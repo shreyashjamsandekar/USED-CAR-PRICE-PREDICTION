{
 "cells": [
  {
   "cell_type": "code",
   "execution_count": 1,
   "id": "42b8c085",
   "metadata": {
    "execution": {
     "iopub.execute_input": "2023-01-29T12:37:44.021785Z",
     "iopub.status.busy": "2023-01-29T12:37:44.021307Z",
     "iopub.status.idle": "2023-01-29T12:37:45.075087Z",
     "shell.execute_reply": "2023-01-29T12:37:45.073588Z"
    },
    "id": "F0T3iPmPhxi_",
    "papermill": {
     "duration": 1.075576,
     "end_time": "2023-01-29T12:37:45.077455",
     "exception": false,
     "start_time": "2023-01-29T12:37:44.001879",
     "status": "completed"
    },
    "tags": []
   },
   "outputs": [],
   "source": [
    "%matplotlib inline \n",
    "\n",
    "import pandas as pd\n",
    "import numpy as np\n",
    "import matplotlib.pyplot as plt\n",
    "import seaborn as sns\n",
    "\n",
    "import warnings\n",
    "warnings.filterwarnings(action='ignore')"
   ]
  },
  {
   "cell_type": "markdown",
   "id": "522716fc",
   "metadata": {
    "id": "P0uNO4d5hxjA",
    "papermill": {
     "duration": 0.015566,
     "end_time": "2023-01-29T12:37:45.109384",
     "exception": false,
     "start_time": "2023-01-29T12:37:45.093818",
     "status": "completed"
    },
    "tags": []
   },
   "source": [
    "# 1. Import Data "
   ]
  },
  {
   "cell_type": "markdown",
   "id": "cbe1ef68",
   "metadata": {
    "id": "NL9G4b7-hxjB",
    "papermill": {
     "duration": 0.016168,
     "end_time": "2023-01-29T12:37:45.141569",
     "exception": false,
     "start_time": "2023-01-29T12:37:45.125401",
     "status": "completed"
    },
    "tags": []
   },
   "source": [
    "< y > \n",
    "* **Price** : The price of the used car in INR Lakhs.\n",
    "\n",
    "\n",
    "\n",
    "< X > \n",
    "* Name : The brand and model of the car\n",
    "* Location : The location in which the car is being sold or is available for purchase.\n",
    "* Year : The year or edition of the model.\n",
    "* Kilometers_Driven : The total kilometres driven in the car by the previous owner(s) in KM.\n",
    "* Fuel_Type : The type of fuel used by the car. (Petrol, Diesel, Electric, CNG, LPG)\n",
    "* Transmission : The type of transmission used by the car. (Automatic / Manual)\n",
    "* Owner_Type : Whether the ownership is Firsthand, Second hand or other.\n",
    "* Mileage : The standard mileage offered by the car company in kmpl or km/kg\n",
    "* Engine : The displacement volume of the engine in CC.\n",
    "* Power : The maximum power of the engine in bhp.\n",
    "* Seats : The number of seats in the car.\n",
    "* New_Price : The price of a new car of the same model."
   ]
  },
  {
   "cell_type": "markdown",
   "id": "5d04454f",
   "metadata": {
    "papermill": {
     "duration": 0.016301,
     "end_time": "2023-01-29T12:37:45.173981",
     "exception": false,
     "start_time": "2023-01-29T12:37:45.157680",
     "status": "completed"
    },
    "tags": []
   },
   "source": [
    "## Import data"
   ]
  },
  {
   "cell_type": "code",
   "execution_count": 2,
   "id": "ee0dbd24",
   "metadata": {
    "execution": {
     "iopub.execute_input": "2023-01-29T12:37:45.208442Z",
     "iopub.status.busy": "2023-01-29T12:37:45.208034Z",
     "iopub.status.idle": "2023-01-29T12:37:45.284921Z",
     "shell.execute_reply": "2023-01-29T12:37:45.284015Z"
    },
    "id": "4erq13F3hxjC",
    "outputId": "9d870503-1f14-40ab-fb6c-510abcdf231d",
    "papermill": {
     "duration": 0.097075,
     "end_time": "2023-01-29T12:37:45.287467",
     "exception": false,
     "start_time": "2023-01-29T12:37:45.190392",
     "status": "completed"
    },
    "tags": []
   },
   "outputs": [
    {
     "data": {
      "text/html": [
       "<div>\n",
       "<style scoped>\n",
       "    .dataframe tbody tr th:only-of-type {\n",
       "        vertical-align: middle;\n",
       "    }\n",
       "\n",
       "    .dataframe tbody tr th {\n",
       "        vertical-align: top;\n",
       "    }\n",
       "\n",
       "    .dataframe thead th {\n",
       "        text-align: right;\n",
       "    }\n",
       "</style>\n",
       "<table border=\"1\" class=\"dataframe\">\n",
       "  <thead>\n",
       "    <tr style=\"text-align: right;\">\n",
       "      <th></th>\n",
       "      <th>Unnamed: 0</th>\n",
       "      <th>Name</th>\n",
       "      <th>Location</th>\n",
       "      <th>Year</th>\n",
       "      <th>Kilometers_Driven</th>\n",
       "      <th>Fuel_Type</th>\n",
       "      <th>Transmission</th>\n",
       "      <th>Owner_Type</th>\n",
       "      <th>Mileage</th>\n",
       "      <th>Engine</th>\n",
       "      <th>Power</th>\n",
       "      <th>Seats</th>\n",
       "      <th>New_Price</th>\n",
       "      <th>Price</th>\n",
       "    </tr>\n",
       "  </thead>\n",
       "  <tbody>\n",
       "    <tr>\n",
       "      <th>0</th>\n",
       "      <td>0</td>\n",
       "      <td>Maruti Wagon R LXI CNG</td>\n",
       "      <td>Mumbai</td>\n",
       "      <td>2010</td>\n",
       "      <td>72000</td>\n",
       "      <td>CNG</td>\n",
       "      <td>Manual</td>\n",
       "      <td>First</td>\n",
       "      <td>26.6 km/kg</td>\n",
       "      <td>998 CC</td>\n",
       "      <td>58.16 bhp</td>\n",
       "      <td>5.0</td>\n",
       "      <td>NaN</td>\n",
       "      <td>1.75</td>\n",
       "    </tr>\n",
       "    <tr>\n",
       "      <th>1</th>\n",
       "      <td>1</td>\n",
       "      <td>Hyundai Creta 1.6 CRDi SX Option</td>\n",
       "      <td>Pune</td>\n",
       "      <td>2015</td>\n",
       "      <td>41000</td>\n",
       "      <td>Diesel</td>\n",
       "      <td>Manual</td>\n",
       "      <td>First</td>\n",
       "      <td>19.67 kmpl</td>\n",
       "      <td>1582 CC</td>\n",
       "      <td>126.2 bhp</td>\n",
       "      <td>5.0</td>\n",
       "      <td>NaN</td>\n",
       "      <td>12.50</td>\n",
       "    </tr>\n",
       "    <tr>\n",
       "      <th>2</th>\n",
       "      <td>2</td>\n",
       "      <td>Honda Jazz V</td>\n",
       "      <td>Chennai</td>\n",
       "      <td>2011</td>\n",
       "      <td>46000</td>\n",
       "      <td>Petrol</td>\n",
       "      <td>Manual</td>\n",
       "      <td>First</td>\n",
       "      <td>18.2 kmpl</td>\n",
       "      <td>1199 CC</td>\n",
       "      <td>88.7 bhp</td>\n",
       "      <td>5.0</td>\n",
       "      <td>8.61 Lakh</td>\n",
       "      <td>4.50</td>\n",
       "    </tr>\n",
       "    <tr>\n",
       "      <th>3</th>\n",
       "      <td>3</td>\n",
       "      <td>Maruti Ertiga VDI</td>\n",
       "      <td>Chennai</td>\n",
       "      <td>2012</td>\n",
       "      <td>87000</td>\n",
       "      <td>Diesel</td>\n",
       "      <td>Manual</td>\n",
       "      <td>First</td>\n",
       "      <td>20.77 kmpl</td>\n",
       "      <td>1248 CC</td>\n",
       "      <td>88.76 bhp</td>\n",
       "      <td>7.0</td>\n",
       "      <td>NaN</td>\n",
       "      <td>6.00</td>\n",
       "    </tr>\n",
       "    <tr>\n",
       "      <th>4</th>\n",
       "      <td>4</td>\n",
       "      <td>Audi A4 New 2.0 TDI Multitronic</td>\n",
       "      <td>Coimbatore</td>\n",
       "      <td>2013</td>\n",
       "      <td>40670</td>\n",
       "      <td>Diesel</td>\n",
       "      <td>Automatic</td>\n",
       "      <td>Second</td>\n",
       "      <td>15.2 kmpl</td>\n",
       "      <td>1968 CC</td>\n",
       "      <td>140.8 bhp</td>\n",
       "      <td>5.0</td>\n",
       "      <td>NaN</td>\n",
       "      <td>17.74</td>\n",
       "    </tr>\n",
       "  </tbody>\n",
       "</table>\n",
       "</div>"
      ],
      "text/plain": [
       "   Unnamed: 0                              Name    Location  Year  \\\n",
       "0           0            Maruti Wagon R LXI CNG      Mumbai  2010   \n",
       "1           1  Hyundai Creta 1.6 CRDi SX Option        Pune  2015   \n",
       "2           2                      Honda Jazz V     Chennai  2011   \n",
       "3           3                 Maruti Ertiga VDI     Chennai  2012   \n",
       "4           4   Audi A4 New 2.0 TDI Multitronic  Coimbatore  2013   \n",
       "\n",
       "   Kilometers_Driven Fuel_Type Transmission Owner_Type     Mileage   Engine  \\\n",
       "0              72000       CNG       Manual      First  26.6 km/kg   998 CC   \n",
       "1              41000    Diesel       Manual      First  19.67 kmpl  1582 CC   \n",
       "2              46000    Petrol       Manual      First   18.2 kmpl  1199 CC   \n",
       "3              87000    Diesel       Manual      First  20.77 kmpl  1248 CC   \n",
       "4              40670    Diesel    Automatic     Second   15.2 kmpl  1968 CC   \n",
       "\n",
       "       Power  Seats  New_Price  Price  \n",
       "0  58.16 bhp    5.0        NaN   1.75  \n",
       "1  126.2 bhp    5.0        NaN  12.50  \n",
       "2   88.7 bhp    5.0  8.61 Lakh   4.50  \n",
       "3  88.76 bhp    7.0        NaN   6.00  \n",
       "4  140.8 bhp    5.0        NaN  17.74  "
      ]
     },
     "execution_count": 2,
     "metadata": {},
     "output_type": "execute_result"
    }
   ],
   "source": [
    "# Load Data \n",
    "df_train = pd.read_csv(\"train-data.csv\")\n",
    "df_test = pd.read_csv('train-data.csv')\n",
    "df_train.head()"
   ]
  },
  {
   "cell_type": "code",
   "execution_count": 3,
   "id": "6f2a6146",
   "metadata": {
    "execution": {
     "iopub.execute_input": "2023-01-29T12:37:45.324976Z",
     "iopub.status.busy": "2023-01-29T12:37:45.323651Z",
     "iopub.status.idle": "2023-01-29T12:37:45.330637Z",
     "shell.execute_reply": "2023-01-29T12:37:45.329342Z"
    },
    "papermill": {
     "duration": 0.02779,
     "end_time": "2023-01-29T12:37:45.332692",
     "exception": false,
     "start_time": "2023-01-29T12:37:45.304902",
     "status": "completed"
    },
    "tags": []
   },
   "outputs": [
    {
     "data": {
      "text/plain": [
       "(6019, 14)"
      ]
     },
     "execution_count": 3,
     "metadata": {},
     "output_type": "execute_result"
    }
   ],
   "source": [
    "df_train.shape"
   ]
  },
  {
   "cell_type": "code",
   "execution_count": 4,
   "id": "df1b44ef",
   "metadata": {
    "execution": {
     "iopub.execute_input": "2023-01-29T12:37:45.370963Z",
     "iopub.status.busy": "2023-01-29T12:37:45.370249Z",
     "iopub.status.idle": "2023-01-29T12:37:45.398657Z",
     "shell.execute_reply": "2023-01-29T12:37:45.397570Z"
    },
    "papermill": {
     "duration": 0.051427,
     "end_time": "2023-01-29T12:37:45.401044",
     "exception": false,
     "start_time": "2023-01-29T12:37:45.349617",
     "status": "completed"
    },
    "tags": []
   },
   "outputs": [
    {
     "name": "stdout",
     "output_type": "stream",
     "text": [
      "<class 'pandas.core.frame.DataFrame'>\n",
      "RangeIndex: 6019 entries, 0 to 6018\n",
      "Data columns (total 14 columns):\n",
      " #   Column             Non-Null Count  Dtype  \n",
      "---  ------             --------------  -----  \n",
      " 0   Unnamed: 0         6019 non-null   int64  \n",
      " 1   Name               6019 non-null   object \n",
      " 2   Location           6019 non-null   object \n",
      " 3   Year               6019 non-null   int64  \n",
      " 4   Kilometers_Driven  6019 non-null   int64  \n",
      " 5   Fuel_Type          6019 non-null   object \n",
      " 6   Transmission       6019 non-null   object \n",
      " 7   Owner_Type         6019 non-null   object \n",
      " 8   Mileage            6017 non-null   object \n",
      " 9   Engine             5983 non-null   object \n",
      " 10  Power              5983 non-null   object \n",
      " 11  Seats              5977 non-null   float64\n",
      " 12  New_Price          824 non-null    object \n",
      " 13  Price              6019 non-null   float64\n",
      "dtypes: float64(2), int64(3), object(9)\n",
      "memory usage: 658.5+ KB\n"
     ]
    }
   ],
   "source": [
    "df_train.info()"
   ]
  },
  {
   "cell_type": "code",
   "execution_count": 5,
   "id": "2ad88714",
   "metadata": {
    "execution": {
     "iopub.execute_input": "2023-01-29T12:37:45.439459Z",
     "iopub.status.busy": "2023-01-29T12:37:45.438311Z",
     "iopub.status.idle": "2023-01-29T12:37:45.465837Z",
     "shell.execute_reply": "2023-01-29T12:37:45.464953Z"
    },
    "id": "d-J1QpWR_WYh",
    "papermill": {
     "duration": 0.048419,
     "end_time": "2023-01-29T12:37:45.468056",
     "exception": false,
     "start_time": "2023-01-29T12:37:45.419637",
     "status": "completed"
    },
    "tags": []
   },
   "outputs": [
    {
     "data": {
      "text/html": [
       "<div>\n",
       "<style scoped>\n",
       "    .dataframe tbody tr th:only-of-type {\n",
       "        vertical-align: middle;\n",
       "    }\n",
       "\n",
       "    .dataframe tbody tr th {\n",
       "        vertical-align: top;\n",
       "    }\n",
       "\n",
       "    .dataframe thead th {\n",
       "        text-align: right;\n",
       "    }\n",
       "</style>\n",
       "<table border=\"1\" class=\"dataframe\">\n",
       "  <thead>\n",
       "    <tr style=\"text-align: right;\">\n",
       "      <th></th>\n",
       "      <th>Unnamed: 0</th>\n",
       "      <th>Year</th>\n",
       "      <th>Kilometers_Driven</th>\n",
       "      <th>Seats</th>\n",
       "      <th>Price</th>\n",
       "    </tr>\n",
       "  </thead>\n",
       "  <tbody>\n",
       "    <tr>\n",
       "      <th>count</th>\n",
       "      <td>6019.000000</td>\n",
       "      <td>6019.000000</td>\n",
       "      <td>6.019000e+03</td>\n",
       "      <td>5977.000000</td>\n",
       "      <td>6019.000000</td>\n",
       "    </tr>\n",
       "    <tr>\n",
       "      <th>mean</th>\n",
       "      <td>3009.000000</td>\n",
       "      <td>2013.358199</td>\n",
       "      <td>5.873838e+04</td>\n",
       "      <td>5.278735</td>\n",
       "      <td>9.479468</td>\n",
       "    </tr>\n",
       "    <tr>\n",
       "      <th>std</th>\n",
       "      <td>1737.679967</td>\n",
       "      <td>3.269742</td>\n",
       "      <td>9.126884e+04</td>\n",
       "      <td>0.808840</td>\n",
       "      <td>11.187917</td>\n",
       "    </tr>\n",
       "    <tr>\n",
       "      <th>min</th>\n",
       "      <td>0.000000</td>\n",
       "      <td>1998.000000</td>\n",
       "      <td>1.710000e+02</td>\n",
       "      <td>0.000000</td>\n",
       "      <td>0.440000</td>\n",
       "    </tr>\n",
       "    <tr>\n",
       "      <th>25%</th>\n",
       "      <td>1504.500000</td>\n",
       "      <td>2011.000000</td>\n",
       "      <td>3.400000e+04</td>\n",
       "      <td>5.000000</td>\n",
       "      <td>3.500000</td>\n",
       "    </tr>\n",
       "    <tr>\n",
       "      <th>50%</th>\n",
       "      <td>3009.000000</td>\n",
       "      <td>2014.000000</td>\n",
       "      <td>5.300000e+04</td>\n",
       "      <td>5.000000</td>\n",
       "      <td>5.640000</td>\n",
       "    </tr>\n",
       "    <tr>\n",
       "      <th>75%</th>\n",
       "      <td>4513.500000</td>\n",
       "      <td>2016.000000</td>\n",
       "      <td>7.300000e+04</td>\n",
       "      <td>5.000000</td>\n",
       "      <td>9.950000</td>\n",
       "    </tr>\n",
       "    <tr>\n",
       "      <th>max</th>\n",
       "      <td>6018.000000</td>\n",
       "      <td>2019.000000</td>\n",
       "      <td>6.500000e+06</td>\n",
       "      <td>10.000000</td>\n",
       "      <td>160.000000</td>\n",
       "    </tr>\n",
       "  </tbody>\n",
       "</table>\n",
       "</div>"
      ],
      "text/plain": [
       "        Unnamed: 0         Year  Kilometers_Driven        Seats        Price\n",
       "count  6019.000000  6019.000000       6.019000e+03  5977.000000  6019.000000\n",
       "mean   3009.000000  2013.358199       5.873838e+04     5.278735     9.479468\n",
       "std    1737.679967     3.269742       9.126884e+04     0.808840    11.187917\n",
       "min       0.000000  1998.000000       1.710000e+02     0.000000     0.440000\n",
       "25%    1504.500000  2011.000000       3.400000e+04     5.000000     3.500000\n",
       "50%    3009.000000  2014.000000       5.300000e+04     5.000000     5.640000\n",
       "75%    4513.500000  2016.000000       7.300000e+04     5.000000     9.950000\n",
       "max    6018.000000  2019.000000       6.500000e+06    10.000000   160.000000"
      ]
     },
     "execution_count": 5,
     "metadata": {},
     "output_type": "execute_result"
    }
   ],
   "source": [
    "df_train.describe()"
   ]
  },
  {
   "cell_type": "code",
   "execution_count": 6,
   "id": "70e96202",
   "metadata": {
    "execution": {
     "iopub.execute_input": "2023-01-29T12:37:45.503510Z",
     "iopub.status.busy": "2023-01-29T12:37:45.503018Z",
     "iopub.status.idle": "2023-01-29T12:37:45.506978Z",
     "shell.execute_reply": "2023-01-29T12:37:45.506234Z"
    },
    "papermill": {
     "duration": 0.023873,
     "end_time": "2023-01-29T12:37:45.508778",
     "exception": false,
     "start_time": "2023-01-29T12:37:45.484905",
     "status": "completed"
    },
    "tags": []
   },
   "outputs": [],
   "source": [
    "data_sets = [df_train, df_test]"
   ]
  },
  {
   "cell_type": "code",
   "execution_count": 7,
   "id": "be903e36",
   "metadata": {
    "execution": {
     "iopub.execute_input": "2023-01-29T12:37:45.545554Z",
     "iopub.status.busy": "2023-01-29T12:37:45.544993Z",
     "iopub.status.idle": "2023-01-29T12:37:45.552508Z",
     "shell.execute_reply": "2023-01-29T12:37:45.551430Z"
    },
    "papermill": {
     "duration": 0.028457,
     "end_time": "2023-01-29T12:37:45.554845",
     "exception": false,
     "start_time": "2023-01-29T12:37:45.526388",
     "status": "completed"
    },
    "tags": []
   },
   "outputs": [],
   "source": [
    "for df in data_sets : \n",
    "    df.drop(columns=['Unnamed: 0','New_Price'],inplace=True)"
   ]
  },
  {
   "cell_type": "markdown",
   "id": "dbb1b17c",
   "metadata": {
    "papermill": {
     "duration": 0.016584,
     "end_time": "2023-01-29T12:37:45.588440",
     "exception": false,
     "start_time": "2023-01-29T12:37:45.571856",
     "status": "completed"
    },
    "tags": []
   },
   "source": [
    "### Check for Null values"
   ]
  },
  {
   "cell_type": "code",
   "execution_count": 8,
   "id": "1fc08245",
   "metadata": {
    "execution": {
     "iopub.execute_input": "2023-01-29T12:37:45.624730Z",
     "iopub.status.busy": "2023-01-29T12:37:45.624129Z",
     "iopub.status.idle": "2023-01-29T12:37:45.635267Z",
     "shell.execute_reply": "2023-01-29T12:37:45.634275Z"
    },
    "papermill": {
     "duration": 0.031468,
     "end_time": "2023-01-29T12:37:45.637089",
     "exception": false,
     "start_time": "2023-01-29T12:37:45.605621",
     "status": "completed"
    },
    "tags": []
   },
   "outputs": [
    {
     "name": "stdout",
     "output_type": "stream",
     "text": [
      "Null values for each column\n"
     ]
    },
    {
     "data": {
      "text/plain": [
       "Name                  0\n",
       "Location              0\n",
       "Year                  0\n",
       "Kilometers_Driven     0\n",
       "Fuel_Type             0\n",
       "Transmission          0\n",
       "Owner_Type            0\n",
       "Mileage               2\n",
       "Engine               36\n",
       "Power                36\n",
       "Seats                42\n",
       "Price                 0\n",
       "dtype: int64"
      ]
     },
     "execution_count": 8,
     "metadata": {},
     "output_type": "execute_result"
    }
   ],
   "source": [
    "print('Null values for each column')\n",
    "df_train.isnull().sum()"
   ]
  },
  {
   "cell_type": "markdown",
   "id": "825ee3bb",
   "metadata": {
    "papermill": {
     "duration": 0.016717,
     "end_time": "2023-01-29T12:37:45.670916",
     "exception": false,
     "start_time": "2023-01-29T12:37:45.654199",
     "status": "completed"
    },
    "tags": []
   },
   "source": [
    "## Data Cleaning"
   ]
  },
  {
   "cell_type": "code",
   "execution_count": 9,
   "id": "727a748e",
   "metadata": {
    "execution": {
     "iopub.execute_input": "2023-01-29T12:37:45.707513Z",
     "iopub.status.busy": "2023-01-29T12:37:45.706822Z",
     "iopub.status.idle": "2023-01-29T12:37:45.729650Z",
     "shell.execute_reply": "2023-01-29T12:37:45.728956Z"
    },
    "papermill": {
     "duration": 0.043998,
     "end_time": "2023-01-29T12:37:45.731876",
     "exception": false,
     "start_time": "2023-01-29T12:37:45.687878",
     "status": "completed"
    },
    "tags": []
   },
   "outputs": [],
   "source": [
    "for df in data_sets : \n",
    "    df['Model']=df['Name'].map(lambda x: str(x).strip().split(\" \")[1])\n",
    "    df['Manufacturer']=df['Name'].map(lambda x: str(x).strip().split(\" \")[0])"
   ]
  },
  {
   "cell_type": "code",
   "execution_count": 10,
   "id": "e41ba1d5",
   "metadata": {
    "execution": {
     "iopub.execute_input": "2023-01-29T12:37:45.768189Z",
     "iopub.status.busy": "2023-01-29T12:37:45.767602Z",
     "iopub.status.idle": "2023-01-29T12:37:45.777661Z",
     "shell.execute_reply": "2023-01-29T12:37:45.776487Z"
    },
    "papermill": {
     "duration": 0.030919,
     "end_time": "2023-01-29T12:37:45.780025",
     "exception": false,
     "start_time": "2023-01-29T12:37:45.749106",
     "status": "completed"
    },
    "tags": []
   },
   "outputs": [],
   "source": [
    "for df in data_sets : \n",
    "    df.drop(columns='Name',inplace=True)"
   ]
  },
  {
   "cell_type": "code",
   "execution_count": 11,
   "id": "f541d1af",
   "metadata": {
    "execution": {
     "iopub.execute_input": "2023-01-29T12:37:45.817274Z",
     "iopub.status.busy": "2023-01-29T12:37:45.816676Z",
     "iopub.status.idle": "2023-01-29T12:37:45.826550Z",
     "shell.execute_reply": "2023-01-29T12:37:45.825517Z"
    },
    "papermill": {
     "duration": 0.030764,
     "end_time": "2023-01-29T12:37:45.829259",
     "exception": false,
     "start_time": "2023-01-29T12:37:45.798495",
     "status": "completed"
    },
    "tags": []
   },
   "outputs": [
    {
     "data": {
      "text/plain": [
       "Maruti           1211\n",
       "Hyundai          1107\n",
       "Honda             608\n",
       "Toyota            411\n",
       "Mercedes-Benz     318\n",
       "Volkswagen        315\n",
       "Ford              300\n",
       "Mahindra          272\n",
       "BMW               267\n",
       "Audi              236\n",
       "Tata              186\n",
       "Skoda             173\n",
       "Renault           145\n",
       "Chevrolet         121\n",
       "Nissan             91\n",
       "Land               60\n",
       "Jaguar             40\n",
       "Fiat               28\n",
       "Mitsubishi         27\n",
       "Mini               26\n",
       "Volvo              21\n",
       "Porsche            18\n",
       "Jeep               15\n",
       "Datsun             13\n",
       "Force               3\n",
       "ISUZU               2\n",
       "Smart               1\n",
       "Ambassador          1\n",
       "Isuzu               1\n",
       "Bentley             1\n",
       "Lamborghini         1\n",
       "Name: Manufacturer, dtype: int64"
      ]
     },
     "execution_count": 11,
     "metadata": {},
     "output_type": "execute_result"
    }
   ],
   "source": [
    "# Manufacturer \n",
    "\n",
    "df_train['Manufacturer'].value_counts()"
   ]
  },
  {
   "cell_type": "code",
   "execution_count": 12,
   "id": "08be35a6",
   "metadata": {
    "execution": {
     "iopub.execute_input": "2023-01-29T12:37:45.866945Z",
     "iopub.status.busy": "2023-01-29T12:37:45.866306Z",
     "iopub.status.idle": "2023-01-29T12:37:45.903713Z",
     "shell.execute_reply": "2023-01-29T12:37:45.902314Z"
    },
    "papermill": {
     "duration": 0.060384,
     "end_time": "2023-01-29T12:37:45.907237",
     "exception": false,
     "start_time": "2023-01-29T12:37:45.846853",
     "status": "completed"
    },
    "tags": []
   },
   "outputs": [],
   "source": [
    "drop_manufacturer = ['Force','ISUZU','Smart','Ambassador','Isuzu','Bently','Lamborghini']\n",
    "for df in data_sets : \n",
    "    for col in drop_manufacturer : \n",
    "        drop_index = df[df['Manufacturer']==col].index\n",
    "        df.drop(drop_index,axis=0,inplace=True)"
   ]
  },
  {
   "cell_type": "code",
   "execution_count": 13,
   "id": "10a0215f",
   "metadata": {
    "execution": {
     "iopub.execute_input": "2023-01-29T12:37:45.944610Z",
     "iopub.status.busy": "2023-01-29T12:37:45.944032Z",
     "iopub.status.idle": "2023-01-29T12:37:45.953013Z",
     "shell.execute_reply": "2023-01-29T12:37:45.952075Z"
    },
    "papermill": {
     "duration": 0.029661,
     "end_time": "2023-01-29T12:37:45.954862",
     "exception": false,
     "start_time": "2023-01-29T12:37:45.925201",
     "status": "completed"
    },
    "tags": []
   },
   "outputs": [
    {
     "data": {
      "text/plain": [
       "Swift         353\n",
       "City          270\n",
       "i20           247\n",
       "Verna         170\n",
       "Innova        164\n",
       "             ... \n",
       "Beetle          1\n",
       "XUV300          1\n",
       "Boxster         1\n",
       "Countryman      1\n",
       "F               1\n",
       "Name: Model, Length: 207, dtype: int64"
      ]
     },
     "execution_count": 13,
     "metadata": {},
     "output_type": "execute_result"
    }
   ],
   "source": [
    "df_train['Model'].value_counts()"
   ]
  },
  {
   "cell_type": "code",
   "execution_count": 14,
   "id": "2f076462",
   "metadata": {
    "execution": {
     "iopub.execute_input": "2023-01-29T12:37:45.993724Z",
     "iopub.status.busy": "2023-01-29T12:37:45.993144Z",
     "iopub.status.idle": "2023-01-29T12:37:46.002112Z",
     "shell.execute_reply": "2023-01-29T12:37:46.000919Z"
    },
    "papermill": {
     "duration": 0.030877,
     "end_time": "2023-01-29T12:37:46.004305",
     "exception": false,
     "start_time": "2023-01-29T12:37:45.973428",
     "status": "completed"
    },
    "tags": []
   },
   "outputs": [],
   "source": [
    "for df in data_sets : \n",
    "    df['Model'].value_counts()[df['Model'].value_counts()<5]"
   ]
  },
  {
   "cell_type": "markdown",
   "id": "61fc1040",
   "metadata": {
    "papermill": {
     "duration": 0.018052,
     "end_time": "2023-01-29T12:37:46.040157",
     "exception": false,
     "start_time": "2023-01-29T12:37:46.022105",
     "status": "completed"
    },
    "tags": []
   },
   "source": [
    "- many types of cars"
   ]
  },
  {
   "cell_type": "code",
   "execution_count": 15,
   "id": "0c54f783",
   "metadata": {
    "execution": {
     "iopub.execute_input": "2023-01-29T12:37:46.077312Z",
     "iopub.status.busy": "2023-01-29T12:37:46.076672Z",
     "iopub.status.idle": "2023-01-29T12:37:46.084096Z",
     "shell.execute_reply": "2023-01-29T12:37:46.083344Z"
    },
    "papermill": {
     "duration": 0.028015,
     "end_time": "2023-01-29T12:37:46.085821",
     "exception": false,
     "start_time": "2023-01-29T12:37:46.057806",
     "status": "completed"
    },
    "tags": []
   },
   "outputs": [
    {
     "data": {
      "text/plain": [
       "Mumbai        790\n",
       "Hyderabad     742\n",
       "Kochi         651\n",
       "Coimbatore    635\n",
       "Pune          621\n",
       "Delhi         553\n",
       "Kolkata       533\n",
       "Chennai       492\n",
       "Jaipur        411\n",
       "Bangalore     358\n",
       "Ahmedabad     224\n",
       "Name: Location, dtype: int64"
      ]
     },
     "execution_count": 15,
     "metadata": {},
     "output_type": "execute_result"
    }
   ],
   "source": [
    "# Location\n",
    "\n",
    "df_train['Location'].value_counts()"
   ]
  },
  {
   "cell_type": "code",
   "execution_count": 16,
   "id": "897f6dbe",
   "metadata": {
    "execution": {
     "iopub.execute_input": "2023-01-29T12:37:46.122355Z",
     "iopub.status.busy": "2023-01-29T12:37:46.121799Z",
     "iopub.status.idle": "2023-01-29T12:37:46.129072Z",
     "shell.execute_reply": "2023-01-29T12:37:46.127968Z"
    },
    "papermill": {
     "duration": 0.028385,
     "end_time": "2023-01-29T12:37:46.131586",
     "exception": false,
     "start_time": "2023-01-29T12:37:46.103201",
     "status": "completed"
    },
    "tags": []
   },
   "outputs": [
    {
     "data": {
      "text/plain": [
       "2014    794\n",
       "2015    744\n",
       "2016    741\n",
       "2013    649\n",
       "2017    585\n",
       "2012    580\n",
       "2011    465\n",
       "2010    342\n",
       "2018    297\n",
       "2009    198\n",
       "2008    173\n",
       "2007    125\n",
       "2019    102\n",
       "2006     78\n",
       "2005     57\n",
       "2004     31\n",
       "2003     16\n",
       "2002     15\n",
       "2001      8\n",
       "2000      4\n",
       "1998      4\n",
       "1999      2\n",
       "Name: Year, dtype: int64"
      ]
     },
     "execution_count": 16,
     "metadata": {},
     "output_type": "execute_result"
    }
   ],
   "source": [
    "df_train['Year'].value_counts()"
   ]
  },
  {
   "cell_type": "code",
   "execution_count": 17,
   "id": "c5b402f0",
   "metadata": {
    "execution": {
     "iopub.execute_input": "2023-01-29T12:37:46.168435Z",
     "iopub.status.busy": "2023-01-29T12:37:46.168058Z",
     "iopub.status.idle": "2023-01-29T12:37:46.180443Z",
     "shell.execute_reply": "2023-01-29T12:37:46.179107Z"
    },
    "papermill": {
     "duration": 0.033193,
     "end_time": "2023-01-29T12:37:46.182356",
     "exception": false,
     "start_time": "2023-01-29T12:37:46.149163",
     "status": "completed"
    },
    "tags": []
   },
   "outputs": [],
   "source": [
    "for df in data_sets : \n",
    "    df['Year']=df['Year'].astype(str)"
   ]
  },
  {
   "cell_type": "code",
   "execution_count": 18,
   "id": "db17a696",
   "metadata": {
    "execution": {
     "iopub.execute_input": "2023-01-29T12:37:46.218916Z",
     "iopub.status.busy": "2023-01-29T12:37:46.218533Z",
     "iopub.status.idle": "2023-01-29T12:37:46.226024Z",
     "shell.execute_reply": "2023-01-29T12:37:46.225172Z"
    },
    "papermill": {
     "duration": 0.027818,
     "end_time": "2023-01-29T12:37:46.227728",
     "exception": false,
     "start_time": "2023-01-29T12:37:46.199910",
     "status": "completed"
    },
    "tags": []
   },
   "outputs": [],
   "source": [
    "for df in data_sets : \n",
    "    df['Year']=np.where(df['Year'].astype(int)<2003,\"less than 2003\",df['Year'])"
   ]
  },
  {
   "cell_type": "code",
   "execution_count": 19,
   "id": "ad3c07ab",
   "metadata": {
    "execution": {
     "iopub.execute_input": "2023-01-29T12:37:46.265559Z",
     "iopub.status.busy": "2023-01-29T12:37:46.265146Z",
     "iopub.status.idle": "2023-01-29T12:37:46.271835Z",
     "shell.execute_reply": "2023-01-29T12:37:46.270610Z"
    },
    "papermill": {
     "duration": 0.028318,
     "end_time": "2023-01-29T12:37:46.274421",
     "exception": false,
     "start_time": "2023-01-29T12:37:46.246103",
     "status": "completed"
    },
    "tags": []
   },
   "outputs": [],
   "source": [
    "# Kilometers_Driven \n",
    "for df in data_sets : \n",
    "    df['Kilometers_Driven'].sort_values(ascending=False)"
   ]
  },
  {
   "cell_type": "code",
   "execution_count": 20,
   "id": "4bb22586",
   "metadata": {
    "execution": {
     "iopub.execute_input": "2023-01-29T12:37:46.312519Z",
     "iopub.status.busy": "2023-01-29T12:37:46.312132Z",
     "iopub.status.idle": "2023-01-29T12:37:46.320491Z",
     "shell.execute_reply": "2023-01-29T12:37:46.319135Z"
    },
    "papermill": {
     "duration": 0.029839,
     "end_time": "2023-01-29T12:37:46.322535",
     "exception": false,
     "start_time": "2023-01-29T12:37:46.292696",
     "status": "completed"
    },
    "tags": []
   },
   "outputs": [
    {
     "data": {
      "text/plain": [
       "Diesel      3197\n",
       "Petrol      2745\n",
       "CNG           56\n",
       "LPG           10\n",
       "Electric       2\n",
       "Name: Fuel_Type, dtype: int64"
      ]
     },
     "execution_count": 20,
     "metadata": {},
     "output_type": "execute_result"
    }
   ],
   "source": [
    "# Fuel Type\n",
    "\n",
    "df_train['Fuel_Type'].value_counts()"
   ]
  },
  {
   "cell_type": "markdown",
   "id": "edaa3c95",
   "metadata": {
    "papermill": {
     "duration": 0.017155,
     "end_time": "2023-01-29T12:37:46.358327",
     "exception": false,
     "start_time": "2023-01-29T12:37:46.341172",
     "status": "completed"
    },
    "tags": []
   },
   "source": [
    "- Drop rows with LPG, Electric fuel type, because there are so few of them"
   ]
  },
  {
   "cell_type": "code",
   "execution_count": 21,
   "id": "7a544fcb",
   "metadata": {
    "execution": {
     "iopub.execute_input": "2023-01-29T12:37:46.394460Z",
     "iopub.status.busy": "2023-01-29T12:37:46.394092Z",
     "iopub.status.idle": "2023-01-29T12:37:46.406126Z",
     "shell.execute_reply": "2023-01-29T12:37:46.405204Z"
    },
    "papermill": {
     "duration": 0.033391,
     "end_time": "2023-01-29T12:37:46.408968",
     "exception": false,
     "start_time": "2023-01-29T12:37:46.375577",
     "status": "completed"
    },
    "tags": []
   },
   "outputs": [],
   "source": [
    "for df in data_sets : \n",
    "    df = df[(df['Fuel_Type'] != 'LPG') | (df['Fuel_Type']!='Electric')]"
   ]
  },
  {
   "cell_type": "code",
   "execution_count": 22,
   "id": "5aff0ad3",
   "metadata": {
    "execution": {
     "iopub.execute_input": "2023-01-29T12:37:46.446479Z",
     "iopub.status.busy": "2023-01-29T12:37:46.446123Z",
     "iopub.status.idle": "2023-01-29T12:37:46.452972Z",
     "shell.execute_reply": "2023-01-29T12:37:46.452346Z"
    },
    "papermill": {
     "duration": 0.027302,
     "end_time": "2023-01-29T12:37:46.454569",
     "exception": false,
     "start_time": "2023-01-29T12:37:46.427267",
     "status": "completed"
    },
    "tags": []
   },
   "outputs": [
    {
     "data": {
      "text/plain": [
       "Manual       4293\n",
       "Automatic    1717\n",
       "Name: Transmission, dtype: int64"
      ]
     },
     "execution_count": 22,
     "metadata": {},
     "output_type": "execute_result"
    }
   ],
   "source": [
    "# Transmission\n",
    "\n",
    "df_train['Transmission'].value_counts()"
   ]
  },
  {
   "cell_type": "code",
   "execution_count": 23,
   "id": "5f665f6d",
   "metadata": {
    "execution": {
     "iopub.execute_input": "2023-01-29T12:37:46.491794Z",
     "iopub.status.busy": "2023-01-29T12:37:46.491436Z",
     "iopub.status.idle": "2023-01-29T12:37:46.498225Z",
     "shell.execute_reply": "2023-01-29T12:37:46.497432Z"
    },
    "papermill": {
     "duration": 0.027365,
     "end_time": "2023-01-29T12:37:46.499871",
     "exception": false,
     "start_time": "2023-01-29T12:37:46.472506",
     "status": "completed"
    },
    "tags": []
   },
   "outputs": [
    {
     "data": {
      "text/plain": [
       "First             4923\n",
       "Second             967\n",
       "Third              111\n",
       "Fourth & Above       9\n",
       "Name: Owner_Type, dtype: int64"
      ]
     },
     "execution_count": 23,
     "metadata": {},
     "output_type": "execute_result"
    }
   ],
   "source": [
    "# Owner_type\n",
    "\n",
    "df_train['Owner_Type'].value_counts()"
   ]
  },
  {
   "cell_type": "markdown",
   "id": "d8fa7de3",
   "metadata": {
    "papermill": {
     "duration": 0.018223,
     "end_time": "2023-01-29T12:37:46.535941",
     "exception": false,
     "start_time": "2023-01-29T12:37:46.517718",
     "status": "completed"
    },
    "tags": []
   },
   "source": [
    "- Drop row that has \"Fourth & Above\" owner type, because there are so few of them"
   ]
  },
  {
   "cell_type": "code",
   "execution_count": 24,
   "id": "99c2fec2",
   "metadata": {
    "execution": {
     "iopub.execute_input": "2023-01-29T12:37:46.574328Z",
     "iopub.status.busy": "2023-01-29T12:37:46.573968Z",
     "iopub.status.idle": "2023-01-29T12:37:46.582605Z",
     "shell.execute_reply": "2023-01-29T12:37:46.581372Z"
    },
    "papermill": {
     "duration": 0.030318,
     "end_time": "2023-01-29T12:37:46.585273",
     "exception": false,
     "start_time": "2023-01-29T12:37:46.554955",
     "status": "completed"
    },
    "tags": []
   },
   "outputs": [],
   "source": [
    "for df in data_sets : \n",
    "    df = df[df['Owner_Type']!='Fourth & Above']"
   ]
  },
  {
   "cell_type": "code",
   "execution_count": 25,
   "id": "a59048a9",
   "metadata": {
    "execution": {
     "iopub.execute_input": "2023-01-29T12:37:46.623922Z",
     "iopub.status.busy": "2023-01-29T12:37:46.623507Z",
     "iopub.status.idle": "2023-01-29T12:37:46.632784Z",
     "shell.execute_reply": "2023-01-29T12:37:46.631777Z"
    },
    "papermill": {
     "duration": 0.031964,
     "end_time": "2023-01-29T12:37:46.635439",
     "exception": false,
     "start_time": "2023-01-29T12:37:46.603475",
     "status": "completed"
    },
    "tags": []
   },
   "outputs": [
    {
     "data": {
      "text/plain": [
       "18.9 kmpl     172\n",
       "17.0 kmpl     169\n",
       "18.6 kmpl     119\n",
       "20.36 kmpl     88\n",
       "21.1 kmpl      86\n",
       "             ... \n",
       "21.79 kmpl      1\n",
       "16.38 kmpl      1\n",
       "17.16 kmpl      1\n",
       "7.81 kmpl       1\n",
       "17.24 kmpl      1\n",
       "Name: Mileage, Length: 441, dtype: int64"
      ]
     },
     "execution_count": 25,
     "metadata": {},
     "output_type": "execute_result"
    }
   ],
   "source": [
    "# Mileage\n",
    "\n",
    "df_train['Mileage'].value_counts()"
   ]
  },
  {
   "cell_type": "markdown",
   "id": "1b8dac5a",
   "metadata": {
    "papermill": {
     "duration": 0.018009,
     "end_time": "2023-01-29T12:37:46.671992",
     "exception": false,
     "start_time": "2023-01-29T12:37:46.653983",
     "status": "completed"
    },
    "tags": []
   },
   "source": [
    "- Convert to numeric values"
   ]
  },
  {
   "cell_type": "code",
   "execution_count": 26,
   "id": "b1fa19fb",
   "metadata": {
    "execution": {
     "iopub.execute_input": "2023-01-29T12:37:46.710159Z",
     "iopub.status.busy": "2023-01-29T12:37:46.709801Z",
     "iopub.status.idle": "2023-01-29T12:37:46.723431Z",
     "shell.execute_reply": "2023-01-29T12:37:46.721980Z"
    },
    "papermill": {
     "duration": 0.035424,
     "end_time": "2023-01-29T12:37:46.725632",
     "exception": false,
     "start_time": "2023-01-29T12:37:46.690208",
     "status": "completed"
    },
    "tags": []
   },
   "outputs": [],
   "source": [
    "for df in data_sets : \n",
    "    df['Mileage'] = df['Mileage'].map(lambda x: str(x).strip().split(\" \")[0])"
   ]
  },
  {
   "cell_type": "code",
   "execution_count": 27,
   "id": "21f6e6f5",
   "metadata": {
    "execution": {
     "iopub.execute_input": "2023-01-29T12:37:46.763609Z",
     "iopub.status.busy": "2023-01-29T12:37:46.762937Z",
     "iopub.status.idle": "2023-01-29T12:37:46.774217Z",
     "shell.execute_reply": "2023-01-29T12:37:46.772806Z"
    },
    "papermill": {
     "duration": 0.033987,
     "end_time": "2023-01-29T12:37:46.777461",
     "exception": false,
     "start_time": "2023-01-29T12:37:46.743474",
     "status": "completed"
    },
    "tags": []
   },
   "outputs": [],
   "source": [
    "for df in data_sets : \n",
    "    df['Mileage'] = df['Mileage'].astype(float)"
   ]
  },
  {
   "cell_type": "markdown",
   "id": "6e1002c4",
   "metadata": {
    "papermill": {
     "duration": 0.022173,
     "end_time": "2023-01-29T12:37:46.819731",
     "exception": false,
     "start_time": "2023-01-29T12:37:46.797558",
     "status": "completed"
    },
    "tags": []
   },
   "source": [
    "### Deal with columns with null values\n",
    "\n",
    "Replce Null values of engine type and power and seats based on model"
   ]
  },
  {
   "cell_type": "code",
   "execution_count": 28,
   "id": "8b15e202",
   "metadata": {
    "execution": {
     "iopub.execute_input": "2023-01-29T12:37:46.859812Z",
     "iopub.status.busy": "2023-01-29T12:37:46.858483Z",
     "iopub.status.idle": "2023-01-29T12:37:46.867683Z",
     "shell.execute_reply": "2023-01-29T12:37:46.866819Z"
    },
    "papermill": {
     "duration": 0.031184,
     "end_time": "2023-01-29T12:37:46.869586",
     "exception": false,
     "start_time": "2023-01-29T12:37:46.838402",
     "status": "completed"
    },
    "tags": []
   },
   "outputs": [
    {
     "data": {
      "text/plain": [
       "1197 CC    606\n",
       "1248 CC    512\n",
       "1498 CC    304\n",
       "998 CC     259\n",
       "2179 CC    240\n",
       "          ... \n",
       "3200 CC      1\n",
       "2694 CC      1\n",
       "2495 CC      1\n",
       "1978 CC      1\n",
       "1797 CC      1\n",
       "Name: Engine, Length: 141, dtype: int64"
      ]
     },
     "execution_count": 28,
     "metadata": {},
     "output_type": "execute_result"
    }
   ],
   "source": [
    "# Engine\n",
    "\n",
    "df_train['Engine'].value_counts()"
   ]
  },
  {
   "cell_type": "code",
   "execution_count": 29,
   "id": "7ac2088c",
   "metadata": {
    "execution": {
     "iopub.execute_input": "2023-01-29T12:37:46.909563Z",
     "iopub.status.busy": "2023-01-29T12:37:46.908138Z",
     "iopub.status.idle": "2023-01-29T12:37:46.922232Z",
     "shell.execute_reply": "2023-01-29T12:37:46.921168Z"
    },
    "papermill": {
     "duration": 0.035979,
     "end_time": "2023-01-29T12:37:46.924438",
     "exception": false,
     "start_time": "2023-01-29T12:37:46.888459",
     "status": "completed"
    },
    "tags": []
   },
   "outputs": [],
   "source": [
    "for df in data_sets : \n",
    "    df['Engine'] = df['Engine'].map(lambda x  : str(x).strip().split(' ')[0])"
   ]
  },
  {
   "cell_type": "code",
   "execution_count": 30,
   "id": "714d4d99",
   "metadata": {
    "execution": {
     "iopub.execute_input": "2023-01-29T12:37:46.963401Z",
     "iopub.status.busy": "2023-01-29T12:37:46.962872Z",
     "iopub.status.idle": "2023-01-29T12:37:46.969911Z",
     "shell.execute_reply": "2023-01-29T12:37:46.968583Z"
    },
    "papermill": {
     "duration": 0.029988,
     "end_time": "2023-01-29T12:37:46.972311",
     "exception": false,
     "start_time": "2023-01-29T12:37:46.942323",
     "status": "completed"
    },
    "tags": []
   },
   "outputs": [],
   "source": [
    "for df in data_sets : \n",
    "    df['Engine'] = df['Engine'].astype(float)"
   ]
  },
  {
   "cell_type": "code",
   "execution_count": 31,
   "id": "5fd9a88e",
   "metadata": {
    "execution": {
     "iopub.execute_input": "2023-01-29T12:37:47.011032Z",
     "iopub.status.busy": "2023-01-29T12:37:47.010595Z",
     "iopub.status.idle": "2023-01-29T12:37:48.630013Z",
     "shell.execute_reply": "2023-01-29T12:37:48.629089Z"
    },
    "papermill": {
     "duration": 1.641979,
     "end_time": "2023-01-29T12:37:48.632515",
     "exception": false,
     "start_time": "2023-01-29T12:37:46.990536",
     "status": "completed"
    },
    "tags": []
   },
   "outputs": [],
   "source": [
    "model_lst = df['Model'].unique()\n",
    "\n",
    "for df in data_sets : \n",
    "    for model in model_lst : \n",
    "        mean_model = df[df['Model']==model]['Engine'].mean() # use mean value to fillna\n",
    "        df.update(df[df['Model']==model]['Engine'].fillna(mean_model))"
   ]
  },
  {
   "cell_type": "code",
   "execution_count": 32,
   "id": "29625cfb",
   "metadata": {
    "execution": {
     "iopub.execute_input": "2023-01-29T12:37:48.669943Z",
     "iopub.status.busy": "2023-01-29T12:37:48.669534Z",
     "iopub.status.idle": "2023-01-29T12:37:48.678226Z",
     "shell.execute_reply": "2023-01-29T12:37:48.677330Z"
    },
    "papermill": {
     "duration": 0.029977,
     "end_time": "2023-01-29T12:37:48.680543",
     "exception": false,
     "start_time": "2023-01-29T12:37:48.650566",
     "status": "completed"
    },
    "tags": []
   },
   "outputs": [
    {
     "data": {
      "text/plain": [
       "74 bhp        235\n",
       "98.6 bhp      131\n",
       "73.9 bhp      125\n",
       "140 bhp       123\n",
       "78.9 bhp      111\n",
       "             ... \n",
       "61 bhp          1\n",
       "144 bhp         1\n",
       "71.01 bhp       1\n",
       "271.72 bhp      1\n",
       "181.04 bhp      1\n",
       "Name: Power, Length: 367, dtype: int64"
      ]
     },
     "execution_count": 32,
     "metadata": {},
     "output_type": "execute_result"
    }
   ],
   "source": [
    "# Power \n",
    "\n",
    "df_train['Power'].value_counts()"
   ]
  },
  {
   "cell_type": "code",
   "execution_count": 33,
   "id": "18c99805",
   "metadata": {
    "execution": {
     "iopub.execute_input": "2023-01-29T12:37:48.719473Z",
     "iopub.status.busy": "2023-01-29T12:37:48.718935Z",
     "iopub.status.idle": "2023-01-29T12:37:48.730904Z",
     "shell.execute_reply": "2023-01-29T12:37:48.729796Z"
    },
    "papermill": {
     "duration": 0.034098,
     "end_time": "2023-01-29T12:37:48.733081",
     "exception": false,
     "start_time": "2023-01-29T12:37:48.698983",
     "status": "completed"
    },
    "tags": []
   },
   "outputs": [],
   "source": [
    "for df in data_sets : \n",
    "    df['Power'] = df['Power'].map(lambda x  : str(x).strip().split(' ')[0])"
   ]
  },
  {
   "cell_type": "code",
   "execution_count": 34,
   "id": "95aba526",
   "metadata": {
    "execution": {
     "iopub.execute_input": "2023-01-29T12:37:48.772247Z",
     "iopub.status.busy": "2023-01-29T12:37:48.770798Z",
     "iopub.status.idle": "2023-01-29T12:37:48.785560Z",
     "shell.execute_reply": "2023-01-29T12:37:48.784573Z"
    },
    "papermill": {
     "duration": 0.036985,
     "end_time": "2023-01-29T12:37:48.788262",
     "exception": false,
     "start_time": "2023-01-29T12:37:48.751277",
     "status": "completed"
    },
    "tags": []
   },
   "outputs": [],
   "source": [
    "for df in data_sets : \n",
    "    df['Power'] = pd.to_numeric(df['Power'],errors='coerce')"
   ]
  },
  {
   "cell_type": "code",
   "execution_count": 35,
   "id": "572a35ec",
   "metadata": {
    "execution": {
     "iopub.execute_input": "2023-01-29T12:37:48.838993Z",
     "iopub.status.busy": "2023-01-29T12:37:48.838237Z",
     "iopub.status.idle": "2023-01-29T12:37:50.459224Z",
     "shell.execute_reply": "2023-01-29T12:37:50.458450Z"
    },
    "papermill": {
     "duration": 1.649756,
     "end_time": "2023-01-29T12:37:50.461520",
     "exception": false,
     "start_time": "2023-01-29T12:37:48.811764",
     "status": "completed"
    },
    "tags": []
   },
   "outputs": [],
   "source": [
    "for df in data_sets : \n",
    "    for model in model_lst:\n",
    "        mean_power = df[df[\"Model\"]==model]['Power'].astype(float).mean() # use mean value to fillna\n",
    "        df.update(df[df['Model']==model]['Power'].fillna(mean_power))"
   ]
  },
  {
   "cell_type": "code",
   "execution_count": 36,
   "id": "5096d011",
   "metadata": {
    "execution": {
     "iopub.execute_input": "2023-01-29T12:37:50.501369Z",
     "iopub.status.busy": "2023-01-29T12:37:50.501057Z",
     "iopub.status.idle": "2023-01-29T12:37:52.161526Z",
     "shell.execute_reply": "2023-01-29T12:37:52.160216Z"
    },
    "papermill": {
     "duration": 1.682088,
     "end_time": "2023-01-29T12:37:52.163943",
     "exception": false,
     "start_time": "2023-01-29T12:37:50.481855",
     "status": "completed"
    },
    "tags": []
   },
   "outputs": [],
   "source": [
    "# Seats\n",
    "\n",
    "for df in data_sets : \n",
    "    for model in model_lst:\n",
    "        base_seat = df[df[\"Model\"]==model]['Seats'].mode(0)[0] # use base on model\n",
    "        df.update(df[df['Model']==model]['Seats'].fillna(base_seat))"
   ]
  },
  {
   "cell_type": "code",
   "execution_count": 37,
   "id": "6883ac81",
   "metadata": {
    "execution": {
     "iopub.execute_input": "2023-01-29T12:37:52.201968Z",
     "iopub.status.busy": "2023-01-29T12:37:52.201286Z",
     "iopub.status.idle": "2023-01-29T12:37:52.216526Z",
     "shell.execute_reply": "2023-01-29T12:37:52.215820Z"
    },
    "papermill": {
     "duration": 0.037076,
     "end_time": "2023-01-29T12:37:52.219127",
     "exception": false,
     "start_time": "2023-01-29T12:37:52.182051",
     "status": "completed"
    },
    "tags": []
   },
   "outputs": [
    {
     "data": {
      "text/html": [
       "<div>\n",
       "<style scoped>\n",
       "    .dataframe tbody tr th:only-of-type {\n",
       "        vertical-align: middle;\n",
       "    }\n",
       "\n",
       "    .dataframe tbody tr th {\n",
       "        vertical-align: top;\n",
       "    }\n",
       "\n",
       "    .dataframe thead th {\n",
       "        text-align: right;\n",
       "    }\n",
       "</style>\n",
       "<table border=\"1\" class=\"dataframe\">\n",
       "  <thead>\n",
       "    <tr style=\"text-align: right;\">\n",
       "      <th></th>\n",
       "      <th>Location</th>\n",
       "      <th>Year</th>\n",
       "      <th>Kilometers_Driven</th>\n",
       "      <th>Fuel_Type</th>\n",
       "      <th>Transmission</th>\n",
       "      <th>Owner_Type</th>\n",
       "      <th>Mileage</th>\n",
       "      <th>Engine</th>\n",
       "      <th>Power</th>\n",
       "      <th>Seats</th>\n",
       "      <th>Price</th>\n",
       "      <th>Model</th>\n",
       "      <th>Manufacturer</th>\n",
       "    </tr>\n",
       "  </thead>\n",
       "  <tbody>\n",
       "    <tr>\n",
       "      <th>0</th>\n",
       "      <td>Mumbai</td>\n",
       "      <td>2010</td>\n",
       "      <td>72000</td>\n",
       "      <td>CNG</td>\n",
       "      <td>Manual</td>\n",
       "      <td>First</td>\n",
       "      <td>26.60</td>\n",
       "      <td>998.0</td>\n",
       "      <td>58.16</td>\n",
       "      <td>5.0</td>\n",
       "      <td>1.75</td>\n",
       "      <td>Wagon</td>\n",
       "      <td>Maruti</td>\n",
       "    </tr>\n",
       "    <tr>\n",
       "      <th>1</th>\n",
       "      <td>Pune</td>\n",
       "      <td>2015</td>\n",
       "      <td>41000</td>\n",
       "      <td>Diesel</td>\n",
       "      <td>Manual</td>\n",
       "      <td>First</td>\n",
       "      <td>19.67</td>\n",
       "      <td>1582.0</td>\n",
       "      <td>126.20</td>\n",
       "      <td>5.0</td>\n",
       "      <td>12.50</td>\n",
       "      <td>Creta</td>\n",
       "      <td>Hyundai</td>\n",
       "    </tr>\n",
       "    <tr>\n",
       "      <th>2</th>\n",
       "      <td>Chennai</td>\n",
       "      <td>2011</td>\n",
       "      <td>46000</td>\n",
       "      <td>Petrol</td>\n",
       "      <td>Manual</td>\n",
       "      <td>First</td>\n",
       "      <td>18.20</td>\n",
       "      <td>1199.0</td>\n",
       "      <td>88.70</td>\n",
       "      <td>5.0</td>\n",
       "      <td>4.50</td>\n",
       "      <td>Jazz</td>\n",
       "      <td>Honda</td>\n",
       "    </tr>\n",
       "    <tr>\n",
       "      <th>3</th>\n",
       "      <td>Chennai</td>\n",
       "      <td>2012</td>\n",
       "      <td>87000</td>\n",
       "      <td>Diesel</td>\n",
       "      <td>Manual</td>\n",
       "      <td>First</td>\n",
       "      <td>20.77</td>\n",
       "      <td>1248.0</td>\n",
       "      <td>88.76</td>\n",
       "      <td>7.0</td>\n",
       "      <td>6.00</td>\n",
       "      <td>Ertiga</td>\n",
       "      <td>Maruti</td>\n",
       "    </tr>\n",
       "    <tr>\n",
       "      <th>4</th>\n",
       "      <td>Coimbatore</td>\n",
       "      <td>2013</td>\n",
       "      <td>40670</td>\n",
       "      <td>Diesel</td>\n",
       "      <td>Automatic</td>\n",
       "      <td>Second</td>\n",
       "      <td>15.20</td>\n",
       "      <td>1968.0</td>\n",
       "      <td>140.80</td>\n",
       "      <td>5.0</td>\n",
       "      <td>17.74</td>\n",
       "      <td>A4</td>\n",
       "      <td>Audi</td>\n",
       "    </tr>\n",
       "  </tbody>\n",
       "</table>\n",
       "</div>"
      ],
      "text/plain": [
       "     Location  Year  Kilometers_Driven Fuel_Type Transmission Owner_Type  \\\n",
       "0      Mumbai  2010              72000       CNG       Manual      First   \n",
       "1        Pune  2015              41000    Diesel       Manual      First   \n",
       "2     Chennai  2011              46000    Petrol       Manual      First   \n",
       "3     Chennai  2012              87000    Diesel       Manual      First   \n",
       "4  Coimbatore  2013              40670    Diesel    Automatic     Second   \n",
       "\n",
       "   Mileage  Engine   Power  Seats  Price   Model Manufacturer  \n",
       "0    26.60   998.0   58.16    5.0   1.75   Wagon       Maruti  \n",
       "1    19.67  1582.0  126.20    5.0  12.50   Creta      Hyundai  \n",
       "2    18.20  1199.0   88.70    5.0   4.50    Jazz        Honda  \n",
       "3    20.77  1248.0   88.76    7.0   6.00  Ertiga       Maruti  \n",
       "4    15.20  1968.0  140.80    5.0  17.74      A4         Audi  "
      ]
     },
     "execution_count": 37,
     "metadata": {},
     "output_type": "execute_result"
    }
   ],
   "source": [
    "df_train.head()"
   ]
  },
  {
   "cell_type": "code",
   "execution_count": 38,
   "id": "66399e4c",
   "metadata": {
    "execution": {
     "iopub.execute_input": "2023-01-29T12:37:52.258033Z",
     "iopub.status.busy": "2023-01-29T12:37:52.257673Z",
     "iopub.status.idle": "2023-01-29T12:37:52.269046Z",
     "shell.execute_reply": "2023-01-29T12:37:52.267824Z"
    },
    "papermill": {
     "duration": 0.033868,
     "end_time": "2023-01-29T12:37:52.271775",
     "exception": false,
     "start_time": "2023-01-29T12:37:52.237907",
     "status": "completed"
    },
    "tags": []
   },
   "outputs": [
    {
     "data": {
      "text/plain": [
       "Location              0\n",
       "Year                  0\n",
       "Kilometers_Driven     0\n",
       "Fuel_Type             0\n",
       "Transmission          0\n",
       "Owner_Type            0\n",
       "Mileage               2\n",
       "Engine                0\n",
       "Power                10\n",
       "Seats                 6\n",
       "Price                 0\n",
       "Model                 0\n",
       "Manufacturer          0\n",
       "dtype: int64"
      ]
     },
     "execution_count": 38,
     "metadata": {},
     "output_type": "execute_result"
    }
   ],
   "source": [
    "df_train.isnull().sum()"
   ]
  },
  {
   "cell_type": "markdown",
   "id": "449bf2be",
   "metadata": {
    "papermill": {
     "duration": 0.017986,
     "end_time": "2023-01-29T12:37:52.308371",
     "exception": false,
     "start_time": "2023-01-29T12:37:52.290385",
     "status": "completed"
    },
    "tags": []
   },
   "source": [
    "- just drop values that didn't fill"
   ]
  },
  {
   "cell_type": "code",
   "execution_count": 39,
   "id": "75c72f14",
   "metadata": {
    "execution": {
     "iopub.execute_input": "2023-01-29T12:37:52.347164Z",
     "iopub.status.busy": "2023-01-29T12:37:52.346524Z",
     "iopub.status.idle": "2023-01-29T12:37:52.358212Z",
     "shell.execute_reply": "2023-01-29T12:37:52.357532Z"
    },
    "papermill": {
     "duration": 0.033438,
     "end_time": "2023-01-29T12:37:52.360156",
     "exception": false,
     "start_time": "2023-01-29T12:37:52.326718",
     "status": "completed"
    },
    "tags": []
   },
   "outputs": [],
   "source": [
    "for df in data_sets : \n",
    "    df.dropna(inplace=True)"
   ]
  },
  {
   "cell_type": "code",
   "execution_count": 40,
   "id": "4bf2b9cc",
   "metadata": {
    "execution": {
     "iopub.execute_input": "2023-01-29T12:37:52.398539Z",
     "iopub.status.busy": "2023-01-29T12:37:52.397833Z",
     "iopub.status.idle": "2023-01-29T12:37:52.408413Z",
     "shell.execute_reply": "2023-01-29T12:37:52.407122Z"
    },
    "papermill": {
     "duration": 0.032819,
     "end_time": "2023-01-29T12:37:52.411057",
     "exception": false,
     "start_time": "2023-01-29T12:37:52.378238",
     "status": "completed"
    },
    "tags": []
   },
   "outputs": [
    {
     "data": {
      "text/plain": [
       "Location             0\n",
       "Year                 0\n",
       "Kilometers_Driven    0\n",
       "Fuel_Type            0\n",
       "Transmission         0\n",
       "Owner_Type           0\n",
       "Mileage              0\n",
       "Engine               0\n",
       "Power                0\n",
       "Seats                0\n",
       "Price                0\n",
       "Model                0\n",
       "Manufacturer         0\n",
       "dtype: int64"
      ]
     },
     "execution_count": 40,
     "metadata": {},
     "output_type": "execute_result"
    }
   ],
   "source": [
    "df_train.isnull().sum()"
   ]
  },
  {
   "cell_type": "markdown",
   "id": "4b6770ca",
   "metadata": {
    "papermill": {
     "duration": 0.01884,
     "end_time": "2023-01-29T12:37:52.449842",
     "exception": false,
     "start_time": "2023-01-29T12:37:52.431002",
     "status": "completed"
    },
    "tags": []
   },
   "source": [
    "- We've taken care of all the null values!"
   ]
  },
  {
   "cell_type": "markdown",
   "id": "0c82ca2f",
   "metadata": {
    "papermill": {
     "duration": 0.018714,
     "end_time": "2023-01-29T12:37:52.487508",
     "exception": false,
     "start_time": "2023-01-29T12:37:52.468794",
     "status": "completed"
    },
    "tags": []
   },
   "source": [
    "## EDA"
   ]
  },
  {
   "cell_type": "code",
   "execution_count": 41,
   "id": "403da07c",
   "metadata": {
    "execution": {
     "iopub.execute_input": "2023-01-29T12:37:52.527177Z",
     "iopub.status.busy": "2023-01-29T12:37:52.526793Z",
     "iopub.status.idle": "2023-01-29T12:37:52.954473Z",
     "shell.execute_reply": "2023-01-29T12:37:52.953142Z"
    },
    "papermill": {
     "duration": 0.450252,
     "end_time": "2023-01-29T12:37:52.956852",
     "exception": false,
     "start_time": "2023-01-29T12:37:52.506600",
     "status": "completed"
    },
    "tags": []
   },
   "outputs": [
    {
     "data": {
      "text/plain": [
       "Text(-2.6999999999999815, 0.5, 'Count')"
      ]
     },
     "execution_count": 41,
     "metadata": {},
     "output_type": "execute_result"
    },
    {
     "data": {
      "text/plain": [
       "<Figure size 1440x720 with 0 Axes>"
      ]
     },
     "metadata": {},
     "output_type": "display_data"
    },
    {
     "data": {
      "image/png": "[encoded data removed]",
      "text/plain": [
       "<Figure size 1152x576 with 1 Axes>"
      ]
     },
     "metadata": {
      "needs_background": "light"
     },
     "output_type": "display_data"
    }
   ],
   "source": [
    "var = \"Manufacturer\"\n",
    "plt.figure(figsize=(20, 10))\n",
    "sns.catplot(x=var, kind=\"count\", palette=\"ch:.25\", height=8, aspect=2, data=df_train);\n",
    "plt.xticks(rotation=90);\n",
    "plt.xlabel('Manufactures', size=20)\n",
    "plt.ylabel('Count', size=20)"
   ]
  },
  {
   "cell_type": "markdown",
   "id": "8f492eac",
   "metadata": {
    "papermill": {
     "duration": 0.019243,
     "end_time": "2023-01-29T12:37:52.995500",
     "exception": false,
     "start_time": "2023-01-29T12:37:52.976257",
     "status": "completed"
    },
    "tags": []
   },
   "source": [
    "## Feature Engineering"
   ]
  },
  {
   "cell_type": "markdown",
   "id": "c2a5cdb1",
   "metadata": {
    "papermill": {
     "duration": 0.020342,
     "end_time": "2023-01-29T12:37:53.035603",
     "exception": false,
     "start_time": "2023-01-29T12:37:53.015261",
     "status": "completed"
    },
    "tags": []
   },
   "source": [
    "### Heat Map"
   ]
  },
  {
   "cell_type": "code",
   "execution_count": 42,
   "id": "ba16e8cb",
   "metadata": {
    "execution": {
     "iopub.execute_input": "2023-01-29T12:37:53.079001Z",
     "iopub.status.busy": "2023-01-29T12:37:53.078599Z",
     "iopub.status.idle": "2023-01-29T12:37:53.392488Z",
     "shell.execute_reply": "2023-01-29T12:37:53.391591Z"
    },
    "papermill": {
     "duration": 0.336559,
     "end_time": "2023-01-29T12:37:53.394262",
     "exception": false,
     "start_time": "2023-01-29T12:37:53.057703",
     "status": "completed"
    },
    "tags": []
   },
   "outputs": [
    {
     "data": {
      "text/plain": [
       "Text(0.5, 1.0, 'Correlation Graph')"
      ]
     },
     "execution_count": 42,
     "metadata": {},
     "output_type": "execute_result"
    },
    {
     "data": {
      "image/png": "[encoded data removed]",
      "text/plain": [
       "<Figure size 720x504 with 2 Axes>"
      ]
     },
     "metadata": {
      "needs_background": "light"
     },
     "output_type": "display_data"
    }
   ],
   "source": [
    "plt.figure(figsize=(10,7))\n",
    "sns.heatmap(df_train[[\"Price\",\"Kilometers_Driven\",\"Power\",\"Mileage\",\"Engine\",\"Seats\"]].corr(), annot=True,linewidths=.5,fmt='.2f')\n",
    "plt.title(\"Correlation Graph\",size=18)"
   ]
  },
  {
   "cell_type": "markdown",
   "id": "a44c41aa",
   "metadata": {
    "papermill": {
     "duration": 0.019596,
     "end_time": "2023-01-29T12:37:53.433861",
     "exception": false,
     "start_time": "2023-01-29T12:37:53.414265",
     "status": "completed"
    },
    "tags": []
   },
   "source": [
    "- Drop columns with low correlation with price\n",
    "- Engine, Power has high correlation with Price but also they have strong relation between them\n",
    "- Drop Engine since it has lower correlation with Price to avoid multicolinearity problem"
   ]
  },
  {
   "cell_type": "code",
   "execution_count": 43,
   "id": "0e24f055",
   "metadata": {
    "execution": {
     "iopub.execute_input": "2023-01-29T12:37:53.475375Z",
     "iopub.status.busy": "2023-01-29T12:37:53.474636Z",
     "iopub.status.idle": "2023-01-29T12:37:53.481465Z",
     "shell.execute_reply": "2023-01-29T12:37:53.480774Z"
    },
    "papermill": {
     "duration": 0.030135,
     "end_time": "2023-01-29T12:37:53.483702",
     "exception": false,
     "start_time": "2023-01-29T12:37:53.453567",
     "status": "completed"
    },
    "tags": []
   },
   "outputs": [],
   "source": [
    "for df in data_sets : \n",
    "    df.drop(['Mileage','Seats','Engine','Kilometers_Driven'],axis=1,inplace=True)"
   ]
  },
  {
   "cell_type": "markdown",
   "id": "4e04b9a0",
   "metadata": {
    "papermill": {
     "duration": 0.01941,
     "end_time": "2023-01-29T12:37:53.522812",
     "exception": false,
     "start_time": "2023-01-29T12:37:53.503402",
     "status": "completed"
    },
    "tags": []
   },
   "source": [
    "## Encoding"
   ]
  },
  {
   "cell_type": "markdown",
   "id": "ba3ea450",
   "metadata": {
    "papermill": {
     "duration": 0.019574,
     "end_time": "2023-01-29T12:37:53.562593",
     "exception": false,
     "start_time": "2023-01-29T12:37:53.543019",
     "status": "completed"
    },
    "tags": []
   },
   "source": [
    "**Label Encoding**"
   ]
  },
  {
   "cell_type": "code",
   "execution_count": 44,
   "id": "729f2127",
   "metadata": {
    "execution": {
     "iopub.execute_input": "2023-01-29T12:37:53.604715Z",
     "iopub.status.busy": "2023-01-29T12:37:53.603831Z",
     "iopub.status.idle": "2023-01-29T12:37:53.619334Z",
     "shell.execute_reply": "2023-01-29T12:37:53.617882Z"
    },
    "papermill": {
     "duration": 0.038476,
     "end_time": "2023-01-29T12:37:53.621372",
     "exception": false,
     "start_time": "2023-01-29T12:37:53.582896",
     "status": "completed"
    },
    "tags": []
   },
   "outputs": [
    {
     "name": "stdout",
     "output_type": "stream",
     "text": [
      "<class 'pandas.core.frame.DataFrame'>\n",
      "Int64Index: 5995 entries, 0 to 6018\n",
      "Data columns (total 9 columns):\n",
      " #   Column        Non-Null Count  Dtype  \n",
      "---  ------        --------------  -----  \n",
      " 0   Location      5995 non-null   object \n",
      " 1   Year          5995 non-null   object \n",
      " 2   Fuel_Type     5995 non-null   object \n",
      " 3   Transmission  5995 non-null   object \n",
      " 4   Owner_Type    5995 non-null   object \n",
      " 5   Power         5995 non-null   float64\n",
      " 6   Price         5995 non-null   float64\n",
      " 7   Model         5995 non-null   object \n",
      " 8   Manufacturer  5995 non-null   object \n",
      "dtypes: float64(2), object(7)\n",
      "memory usage: 468.4+ KB\n"
     ]
    }
   ],
   "source": [
    "df_train.info()"
   ]
  },
  {
   "cell_type": "code",
   "execution_count": 45,
   "id": "64b6ee49",
   "metadata": {
    "execution": {
     "iopub.execute_input": "2023-01-29T12:37:53.663277Z",
     "iopub.status.busy": "2023-01-29T12:37:53.662928Z",
     "iopub.status.idle": "2023-01-29T12:37:53.804771Z",
     "shell.execute_reply": "2023-01-29T12:37:53.803370Z"
    },
    "papermill": {
     "duration": 0.166632,
     "end_time": "2023-01-29T12:37:53.807445",
     "exception": false,
     "start_time": "2023-01-29T12:37:53.640813",
     "status": "completed"
    },
    "tags": []
   },
   "outputs": [],
   "source": [
    "from sklearn.preprocessing import LabelEncoder"
   ]
  },
  {
   "cell_type": "code",
   "execution_count": 46,
   "id": "4e866104",
   "metadata": {
    "execution": {
     "iopub.execute_input": "2023-01-29T12:37:53.850250Z",
     "iopub.status.busy": "2023-01-29T12:37:53.849849Z",
     "iopub.status.idle": "2023-01-29T12:37:53.855091Z",
     "shell.execute_reply": "2023-01-29T12:37:53.853573Z"
    },
    "papermill": {
     "duration": 0.029858,
     "end_time": "2023-01-29T12:37:53.857737",
     "exception": false,
     "start_time": "2023-01-29T12:37:53.827879",
     "status": "completed"
    },
    "tags": []
   },
   "outputs": [],
   "source": [
    "label = LabelEncoder()"
   ]
  },
  {
   "cell_type": "code",
   "execution_count": 47,
   "id": "006590a1",
   "metadata": {
    "execution": {
     "iopub.execute_input": "2023-01-29T12:37:53.900137Z",
     "iopub.status.busy": "2023-01-29T12:37:53.899726Z",
     "iopub.status.idle": "2023-01-29T12:37:53.927903Z",
     "shell.execute_reply": "2023-01-29T12:37:53.926173Z"
    },
    "papermill": {
     "duration": 0.052211,
     "end_time": "2023-01-29T12:37:53.930346",
     "exception": false,
     "start_time": "2023-01-29T12:37:53.878135",
     "status": "completed"
    },
    "tags": []
   },
   "outputs": [],
   "source": [
    "label_lst = ['Location', 'Fuel_Type','Transmission','Model','Manufacturer']\n",
    "for df in data_sets : \n",
    "    for col in label_lst : \n",
    "        df[col] = label.fit_transform(df[col])"
   ]
  },
  {
   "cell_type": "markdown",
   "id": "7d826a19",
   "metadata": {
    "papermill": {
     "duration": 0.019624,
     "end_time": "2023-01-29T12:37:53.969824",
     "exception": false,
     "start_time": "2023-01-29T12:37:53.950200",
     "status": "completed"
    },
    "tags": []
   },
   "source": [
    "**Ordinal Encoding**"
   ]
  },
  {
   "cell_type": "code",
   "execution_count": 48,
   "id": "55f01408",
   "metadata": {
    "execution": {
     "iopub.execute_input": "2023-01-29T12:37:54.011173Z",
     "iopub.status.busy": "2023-01-29T12:37:54.010734Z",
     "iopub.status.idle": "2023-01-29T12:37:54.015813Z",
     "shell.execute_reply": "2023-01-29T12:37:54.014592Z"
    },
    "papermill": {
     "duration": 0.02841,
     "end_time": "2023-01-29T12:37:54.017835",
     "exception": false,
     "start_time": "2023-01-29T12:37:53.989425",
     "status": "completed"
    },
    "tags": []
   },
   "outputs": [],
   "source": [
    "dic = {'First':2,'Second':1,'Third':0}"
   ]
  },
  {
   "cell_type": "code",
   "execution_count": 49,
   "id": "ef4674a6",
   "metadata": {
    "execution": {
     "iopub.execute_input": "2023-01-29T12:37:54.060389Z",
     "iopub.status.busy": "2023-01-29T12:37:54.060026Z",
     "iopub.status.idle": "2023-01-29T12:37:54.069229Z",
     "shell.execute_reply": "2023-01-29T12:37:54.068173Z"
    },
    "papermill": {
     "duration": 0.033819,
     "end_time": "2023-01-29T12:37:54.071777",
     "exception": false,
     "start_time": "2023-01-29T12:37:54.037958",
     "status": "completed"
    },
    "tags": []
   },
   "outputs": [],
   "source": [
    "for df in data_sets : \n",
    "    df['Owner_Type']=df['Owner_Type'].map(dic)"
   ]
  },
  {
   "cell_type": "code",
   "execution_count": 50,
   "id": "4486b048",
   "metadata": {
    "execution": {
     "iopub.execute_input": "2023-01-29T12:37:54.114544Z",
     "iopub.status.busy": "2023-01-29T12:37:54.114166Z",
     "iopub.status.idle": "2023-01-29T12:37:54.120733Z",
     "shell.execute_reply": "2023-01-29T12:37:54.119627Z"
    },
    "papermill": {
     "duration": 0.030565,
     "end_time": "2023-01-29T12:37:54.123211",
     "exception": false,
     "start_time": "2023-01-29T12:37:54.092646",
     "status": "completed"
    },
    "tags": []
   },
   "outputs": [],
   "source": [
    "dic1 = {'2019':17,\"2018\":16,\"2017\":15,\"2016\":14,\"2015\":13,\"2014\":12,\"2013\":11,\"2012\":10,\"2011\":9,\"2010\":8,\"2009\":7,\"2008\":6,\"2007\":5,\"2006\":4,\"2005\":3,\"2004\":2,\"2003\":1,\"less than 2003\":0 }"
   ]
  },
  {
   "cell_type": "code",
   "execution_count": 51,
   "id": "3513a301",
   "metadata": {
    "execution": {
     "iopub.execute_input": "2023-01-29T12:37:54.164640Z",
     "iopub.status.busy": "2023-01-29T12:37:54.164222Z",
     "iopub.status.idle": "2023-01-29T12:37:54.173064Z",
     "shell.execute_reply": "2023-01-29T12:37:54.171732Z"
    },
    "papermill": {
     "duration": 0.032812,
     "end_time": "2023-01-29T12:37:54.175793",
     "exception": false,
     "start_time": "2023-01-29T12:37:54.142981",
     "status": "completed"
    },
    "tags": []
   },
   "outputs": [],
   "source": [
    "for df in data_sets : \n",
    "    df['Year']=df['Year'].map(dic1)"
   ]
  },
  {
   "cell_type": "code",
   "execution_count": 52,
   "id": "5d7be471",
   "metadata": {
    "execution": {
     "iopub.execute_input": "2023-01-29T12:37:54.217774Z",
     "iopub.status.busy": "2023-01-29T12:37:54.217336Z",
     "iopub.status.idle": "2023-01-29T12:37:54.230886Z",
     "shell.execute_reply": "2023-01-29T12:37:54.229801Z"
    },
    "papermill": {
     "duration": 0.037199,
     "end_time": "2023-01-29T12:37:54.233197",
     "exception": false,
     "start_time": "2023-01-29T12:37:54.195998",
     "status": "completed"
    },
    "tags": []
   },
   "outputs": [
    {
     "data": {
      "text/html": [
       "<div>\n",
       "<style scoped>\n",
       "    .dataframe tbody tr th:only-of-type {\n",
       "        vertical-align: middle;\n",
       "    }\n",
       "\n",
       "    .dataframe tbody tr th {\n",
       "        vertical-align: top;\n",
       "    }\n",
       "\n",
       "    .dataframe thead th {\n",
       "        text-align: right;\n",
       "    }\n",
       "</style>\n",
       "<table border=\"1\" class=\"dataframe\">\n",
       "  <thead>\n",
       "    <tr style=\"text-align: right;\">\n",
       "      <th></th>\n",
       "      <th>Location</th>\n",
       "      <th>Year</th>\n",
       "      <th>Fuel_Type</th>\n",
       "      <th>Transmission</th>\n",
       "      <th>Owner_Type</th>\n",
       "      <th>Power</th>\n",
       "      <th>Price</th>\n",
       "      <th>Model</th>\n",
       "      <th>Manufacturer</th>\n",
       "    </tr>\n",
       "  </thead>\n",
       "  <tbody>\n",
       "    <tr>\n",
       "      <th>0</th>\n",
       "      <td>9</td>\n",
       "      <td>8</td>\n",
       "      <td>0</td>\n",
       "      <td>1</td>\n",
       "      <td>2.0</td>\n",
       "      <td>58.16</td>\n",
       "      <td>1.75</td>\n",
       "      <td>176</td>\n",
       "      <td>13</td>\n",
       "    </tr>\n",
       "    <tr>\n",
       "      <th>1</th>\n",
       "      <td>10</td>\n",
       "      <td>13</td>\n",
       "      <td>1</td>\n",
       "      <td>1</td>\n",
       "      <td>2.0</td>\n",
       "      <td>126.20</td>\n",
       "      <td>12.50</td>\n",
       "      <td>51</td>\n",
       "      <td>8</td>\n",
       "    </tr>\n",
       "    <tr>\n",
       "      <th>2</th>\n",
       "      <td>2</td>\n",
       "      <td>9</td>\n",
       "      <td>3</td>\n",
       "      <td>1</td>\n",
       "      <td>2.0</td>\n",
       "      <td>88.70</td>\n",
       "      <td>4.50</td>\n",
       "      <td>92</td>\n",
       "      <td>7</td>\n",
       "    </tr>\n",
       "    <tr>\n",
       "      <th>3</th>\n",
       "      <td>2</td>\n",
       "      <td>10</td>\n",
       "      <td>1</td>\n",
       "      <td>1</td>\n",
       "      <td>2.0</td>\n",
       "      <td>88.76</td>\n",
       "      <td>6.00</td>\n",
       "      <td>65</td>\n",
       "      <td>13</td>\n",
       "    </tr>\n",
       "    <tr>\n",
       "      <th>4</th>\n",
       "      <td>3</td>\n",
       "      <td>11</td>\n",
       "      <td>1</td>\n",
       "      <td>0</td>\n",
       "      <td>1.0</td>\n",
       "      <td>140.80</td>\n",
       "      <td>17.74</td>\n",
       "      <td>9</td>\n",
       "      <td>0</td>\n",
       "    </tr>\n",
       "  </tbody>\n",
       "</table>\n",
       "</div>"
      ],
      "text/plain": [
       "   Location  Year  Fuel_Type  Transmission  Owner_Type   Power  Price  Model  \\\n",
       "0         9     8          0             1         2.0   58.16   1.75    176   \n",
       "1        10    13          1             1         2.0  126.20  12.50     51   \n",
       "2         2     9          3             1         2.0   88.70   4.50     92   \n",
       "3         2    10          1             1         2.0   88.76   6.00     65   \n",
       "4         3    11          1             0         1.0  140.80  17.74      9   \n",
       "\n",
       "   Manufacturer  \n",
       "0            13  \n",
       "1             8  \n",
       "2             7  \n",
       "3            13  \n",
       "4             0  "
      ]
     },
     "execution_count": 52,
     "metadata": {},
     "output_type": "execute_result"
    }
   ],
   "source": [
    "df_train.head()"
   ]
  },
  {
   "cell_type": "code",
   "execution_count": 53,
   "id": "abb1488a",
   "metadata": {
    "execution": {
     "iopub.execute_input": "2023-01-29T12:37:54.276460Z",
     "iopub.status.busy": "2023-01-29T12:37:54.276121Z",
     "iopub.status.idle": "2023-01-29T12:37:54.285518Z",
     "shell.execute_reply": "2023-01-29T12:37:54.284711Z"
    },
    "papermill": {
     "duration": 0.033301,
     "end_time": "2023-01-29T12:37:54.287343",
     "exception": false,
     "start_time": "2023-01-29T12:37:54.254042",
     "status": "completed"
    },
    "tags": []
   },
   "outputs": [
    {
     "data": {
      "text/plain": [
       "Location        0\n",
       "Year            0\n",
       "Fuel_Type       0\n",
       "Transmission    0\n",
       "Owner_Type      9\n",
       "Power           0\n",
       "Price           0\n",
       "Model           0\n",
       "Manufacturer    0\n",
       "dtype: int64"
      ]
     },
     "execution_count": 53,
     "metadata": {},
     "output_type": "execute_result"
    }
   ],
   "source": [
    "df_train.isnull().sum()"
   ]
  },
  {
   "cell_type": "code",
   "execution_count": 54,
   "id": "b5af0dbe",
   "metadata": {
    "execution": {
     "iopub.execute_input": "2023-01-29T12:37:54.329748Z",
     "iopub.status.busy": "2023-01-29T12:37:54.329104Z",
     "iopub.status.idle": "2023-01-29T12:37:54.336893Z",
     "shell.execute_reply": "2023-01-29T12:37:54.335621Z"
    },
    "papermill": {
     "duration": 0.031924,
     "end_time": "2023-01-29T12:37:54.339359",
     "exception": false,
     "start_time": "2023-01-29T12:37:54.307435",
     "status": "completed"
    },
    "tags": []
   },
   "outputs": [],
   "source": [
    "df_train.dropna(inplace=True)"
   ]
  },
  {
   "cell_type": "code",
   "execution_count": 55,
   "id": "882fd89c",
   "metadata": {
    "execution": {
     "iopub.execute_input": "2023-01-29T12:37:54.382416Z",
     "iopub.status.busy": "2023-01-29T12:37:54.381783Z",
     "iopub.status.idle": "2023-01-29T12:37:54.393881Z",
     "shell.execute_reply": "2023-01-29T12:37:54.393032Z"
    },
    "papermill": {
     "duration": 0.036256,
     "end_time": "2023-01-29T12:37:54.396190",
     "exception": false,
     "start_time": "2023-01-29T12:37:54.359934",
     "status": "completed"
    },
    "tags": []
   },
   "outputs": [
    {
     "data": {
      "text/html": [
       "<div>\n",
       "<style scoped>\n",
       "    .dataframe tbody tr th:only-of-type {\n",
       "        vertical-align: middle;\n",
       "    }\n",
       "\n",
       "    .dataframe tbody tr th {\n",
       "        vertical-align: top;\n",
       "    }\n",
       "\n",
       "    .dataframe thead th {\n",
       "        text-align: right;\n",
       "    }\n",
       "</style>\n",
       "<table border=\"1\" class=\"dataframe\">\n",
       "  <thead>\n",
       "    <tr style=\"text-align: right;\">\n",
       "      <th></th>\n",
       "      <th>Location</th>\n",
       "      <th>Year</th>\n",
       "      <th>Fuel_Type</th>\n",
       "      <th>Transmission</th>\n",
       "      <th>Owner_Type</th>\n",
       "      <th>Power</th>\n",
       "      <th>Price</th>\n",
       "      <th>Model</th>\n",
       "      <th>Manufacturer</th>\n",
       "    </tr>\n",
       "  </thead>\n",
       "  <tbody>\n",
       "    <tr>\n",
       "      <th>0</th>\n",
       "      <td>9</td>\n",
       "      <td>8</td>\n",
       "      <td>0</td>\n",
       "      <td>1</td>\n",
       "      <td>2.0</td>\n",
       "      <td>58.16</td>\n",
       "      <td>1.75</td>\n",
       "      <td>176</td>\n",
       "      <td>13</td>\n",
       "    </tr>\n",
       "    <tr>\n",
       "      <th>1</th>\n",
       "      <td>10</td>\n",
       "      <td>13</td>\n",
       "      <td>1</td>\n",
       "      <td>1</td>\n",
       "      <td>2.0</td>\n",
       "      <td>126.20</td>\n",
       "      <td>12.50</td>\n",
       "      <td>51</td>\n",
       "      <td>8</td>\n",
       "    </tr>\n",
       "    <tr>\n",
       "      <th>2</th>\n",
       "      <td>2</td>\n",
       "      <td>9</td>\n",
       "      <td>3</td>\n",
       "      <td>1</td>\n",
       "      <td>2.0</td>\n",
       "      <td>88.70</td>\n",
       "      <td>4.50</td>\n",
       "      <td>92</td>\n",
       "      <td>7</td>\n",
       "    </tr>\n",
       "    <tr>\n",
       "      <th>3</th>\n",
       "      <td>2</td>\n",
       "      <td>10</td>\n",
       "      <td>1</td>\n",
       "      <td>1</td>\n",
       "      <td>2.0</td>\n",
       "      <td>88.76</td>\n",
       "      <td>6.00</td>\n",
       "      <td>65</td>\n",
       "      <td>13</td>\n",
       "    </tr>\n",
       "    <tr>\n",
       "      <th>4</th>\n",
       "      <td>3</td>\n",
       "      <td>11</td>\n",
       "      <td>1</td>\n",
       "      <td>0</td>\n",
       "      <td>1.0</td>\n",
       "      <td>140.80</td>\n",
       "      <td>17.74</td>\n",
       "      <td>9</td>\n",
       "      <td>0</td>\n",
       "    </tr>\n",
       "  </tbody>\n",
       "</table>\n",
       "</div>"
      ],
      "text/plain": [
       "   Location  Year  Fuel_Type  Transmission  Owner_Type   Power  Price  Model  \\\n",
       "0         9     8          0             1         2.0   58.16   1.75    176   \n",
       "1        10    13          1             1         2.0  126.20  12.50     51   \n",
       "2         2     9          3             1         2.0   88.70   4.50     92   \n",
       "3         2    10          1             1         2.0   88.76   6.00     65   \n",
       "4         3    11          1             0         1.0  140.80  17.74      9   \n",
       "\n",
       "   Manufacturer  \n",
       "0            13  \n",
       "1             8  \n",
       "2             7  \n",
       "3            13  \n",
       "4             0  "
      ]
     },
     "execution_count": 55,
     "metadata": {},
     "output_type": "execute_result"
    }
   ],
   "source": [
    "df_test.head()"
   ]
  },
  {
   "cell_type": "code",
   "execution_count": 56,
   "id": "ec20a789",
   "metadata": {
    "execution": {
     "iopub.execute_input": "2023-01-29T12:37:54.438683Z",
     "iopub.status.busy": "2023-01-29T12:37:54.438297Z",
     "iopub.status.idle": "2023-01-29T12:37:54.447055Z",
     "shell.execute_reply": "2023-01-29T12:37:54.445891Z"
    },
    "papermill": {
     "duration": 0.032542,
     "end_time": "2023-01-29T12:37:54.449524",
     "exception": false,
     "start_time": "2023-01-29T12:37:54.416982",
     "status": "completed"
    },
    "tags": []
   },
   "outputs": [
    {
     "data": {
      "text/plain": [
       "Location        0\n",
       "Year            0\n",
       "Fuel_Type       0\n",
       "Transmission    0\n",
       "Owner_Type      9\n",
       "Power           0\n",
       "Price           0\n",
       "Model           0\n",
       "Manufacturer    0\n",
       "dtype: int64"
      ]
     },
     "execution_count": 56,
     "metadata": {},
     "output_type": "execute_result"
    }
   ],
   "source": [
    "df_test.isnull().sum()"
   ]
  },
  {
   "cell_type": "code",
   "execution_count": 57,
   "id": "7668218a",
   "metadata": {
    "execution": {
     "iopub.execute_input": "2023-01-29T12:37:54.492369Z",
     "iopub.status.busy": "2023-01-29T12:37:54.492014Z",
     "iopub.status.idle": "2023-01-29T12:37:54.500412Z",
     "shell.execute_reply": "2023-01-29T12:37:54.499014Z"
    },
    "papermill": {
     "duration": 0.032675,
     "end_time": "2023-01-29T12:37:54.502913",
     "exception": false,
     "start_time": "2023-01-29T12:37:54.470238",
     "status": "completed"
    },
    "tags": []
   },
   "outputs": [],
   "source": [
    "df_test.dropna(inplace=True)"
   ]
  },
  {
   "cell_type": "markdown",
   "id": "744b5619",
   "metadata": {
    "papermill": {
     "duration": 0.020137,
     "end_time": "2023-01-29T12:37:54.543436",
     "exception": false,
     "start_time": "2023-01-29T12:37:54.523299",
     "status": "completed"
    },
    "tags": []
   },
   "source": [
    "## Train the Model"
   ]
  },
  {
   "cell_type": "code",
   "execution_count": 58,
   "id": "fac2f8da",
   "metadata": {
    "execution": {
     "iopub.execute_input": "2023-01-29T12:37:54.585571Z",
     "iopub.status.busy": "2023-01-29T12:37:54.584794Z",
     "iopub.status.idle": "2023-01-29T12:37:54.590682Z",
     "shell.execute_reply": "2023-01-29T12:37:54.590090Z"
    },
    "papermill": {
     "duration": 0.029319,
     "end_time": "2023-01-29T12:37:54.592996",
     "exception": false,
     "start_time": "2023-01-29T12:37:54.563677",
     "status": "completed"
    },
    "tags": []
   },
   "outputs": [],
   "source": [
    "X_train = df_train.drop(\"Price\",axis=1)  \n",
    "Y_train= df_train['Price']                \n",
    "X_test = df_test.drop(\"Price\",axis=1)  \n",
    "Y_test= df_test['Price']                "
   ]
  },
  {
   "cell_type": "markdown",
   "id": "d23117f8",
   "metadata": {
    "papermill": {
     "duration": 0.020424,
     "end_time": "2023-01-29T12:37:54.634089",
     "exception": false,
     "start_time": "2023-01-29T12:37:54.613665",
     "status": "completed"
    },
    "tags": []
   },
   "source": [
    "### Linear Regression"
   ]
  },
  {
   "cell_type": "code",
   "execution_count": 59,
   "id": "89f6be77",
   "metadata": {
    "execution": {
     "iopub.execute_input": "2023-01-29T12:37:54.678771Z",
     "iopub.status.busy": "2023-01-29T12:37:54.677284Z",
     "iopub.status.idle": "2023-01-29T12:37:54.814785Z",
     "shell.execute_reply": "2023-01-29T12:37:54.813460Z"
    },
    "papermill": {
     "duration": 0.162742,
     "end_time": "2023-01-29T12:37:54.817813",
     "exception": false,
     "start_time": "2023-01-29T12:37:54.655071",
     "status": "completed"
    },
    "tags": []
   },
   "outputs": [],
   "source": [
    "from sklearn.linear_model import LinearRegression\n",
    "\n",
    "lr = LinearRegression()"
   ]
  },
  {
   "cell_type": "code",
   "execution_count": 60,
   "id": "ea74ba4e",
   "metadata": {
    "execution": {
     "iopub.execute_input": "2023-01-29T12:37:54.860607Z",
     "iopub.status.busy": "2023-01-29T12:37:54.860243Z",
     "iopub.status.idle": "2023-01-29T12:37:55.012794Z",
     "shell.execute_reply": "2023-01-29T12:37:55.010858Z"
    },
    "papermill": {
     "duration": 0.177465,
     "end_time": "2023-01-29T12:37:55.015847",
     "exception": false,
     "start_time": "2023-01-29T12:37:54.838382",
     "status": "completed"
    },
    "tags": []
   },
   "outputs": [],
   "source": [
    "from sklearn.ensemble import RandomForestRegressor\n",
    "rfr = RandomForestRegressor(n_estimators=100)"
   ]
  },
  {
   "cell_type": "code",
   "execution_count": 61,
   "id": "1d3755ae",
   "metadata": {
    "execution": {
     "iopub.execute_input": "2023-01-29T12:37:55.061070Z",
     "iopub.status.busy": "2023-01-29T12:37:55.060609Z",
     "iopub.status.idle": "2023-01-29T12:37:55.066391Z",
     "shell.execute_reply": "2023-01-29T12:37:55.064964Z"
    },
    "papermill": {
     "duration": 0.03237,
     "end_time": "2023-01-29T12:37:55.069266",
     "exception": false,
     "start_time": "2023-01-29T12:37:55.036896",
     "status": "completed"
    },
    "tags": []
   },
   "outputs": [],
   "source": [
    "from sklearn.ensemble import GradientBoostingRegressor\n",
    "gbr = GradientBoostingRegressor()"
   ]
  },
  {
   "cell_type": "code",
   "execution_count": 62,
   "id": "d76bd701",
   "metadata": {
    "execution": {
     "iopub.execute_input": "2023-01-29T12:37:55.112647Z",
     "iopub.status.busy": "2023-01-29T12:37:55.112277Z",
     "iopub.status.idle": "2023-01-29T12:37:55.117748Z",
     "shell.execute_reply": "2023-01-29T12:37:55.116110Z"
    },
    "papermill": {
     "duration": 0.030476,
     "end_time": "2023-01-29T12:37:55.120044",
     "exception": false,
     "start_time": "2023-01-29T12:37:55.089568",
     "status": "completed"
    },
    "tags": []
   },
   "outputs": [],
   "source": [
    "from sklearn.tree import DecisionTreeRegressor\n",
    "\n",
    "dtr = DecisionTreeRegressor()"
   ]
  },
  {
   "cell_type": "code",
   "execution_count": 63,
   "id": "a0b7da0f",
   "metadata": {
    "execution": {
     "iopub.execute_input": "2023-01-29T12:37:55.162360Z",
     "iopub.status.busy": "2023-01-29T12:37:55.161969Z",
     "iopub.status.idle": "2023-01-29T12:37:55.167007Z",
     "shell.execute_reply": "2023-01-29T12:37:55.165828Z"
    },
    "papermill": {
     "duration": 0.029413,
     "end_time": "2023-01-29T12:37:55.169683",
     "exception": false,
     "start_time": "2023-01-29T12:37:55.140270",
     "status": "completed"
    },
    "tags": []
   },
   "outputs": [],
   "source": [
    "from sklearn.ensemble import AdaBoostRegressor\n",
    "\n",
    "abr = DecisionTreeRegressor()"
   ]
  },
  {
   "cell_type": "code",
   "execution_count": 64,
   "id": "05a2f0d3",
   "metadata": {
    "execution": {
     "iopub.execute_input": "2023-01-29T12:37:55.213145Z",
     "iopub.status.busy": "2023-01-29T12:37:55.211692Z",
     "iopub.status.idle": "2023-01-29T12:37:57.247940Z",
     "shell.execute_reply": "2023-01-29T12:37:57.246337Z"
    },
    "papermill": {
     "duration": 2.060743,
     "end_time": "2023-01-29T12:37:57.250868",
     "exception": false,
     "start_time": "2023-01-29T12:37:55.190125",
     "status": "completed"
    },
    "tags": []
   },
   "outputs": [],
   "source": [
    "regression_models = [lr,rfr,gbr,dtr,abr]\n",
    "score_train = list()\n",
    "score_test = list()\n",
    "\n",
    "for model in regression_models : \n",
    "    model.fit(X_train,Y_train)\n",
    "    y_pred = model.predict(X_test)\n",
    "    \n",
    "    score_train.append(model.score(X_train,Y_train))\n",
    "    score_test.append(model.score(X_test,Y_test))"
   ]
  },
  {
   "cell_type": "code",
   "execution_count": 65,
   "id": "aa639319",
   "metadata": {
    "execution": {
     "iopub.execute_input": "2023-01-29T12:37:57.293522Z",
     "iopub.status.busy": "2023-01-29T12:37:57.292974Z",
     "iopub.status.idle": "2023-01-29T12:37:57.305589Z",
     "shell.execute_reply": "2023-01-29T12:37:57.304478Z"
    },
    "papermill": {
     "duration": 0.036197,
     "end_time": "2023-01-29T12:37:57.307477",
     "exception": false,
     "start_time": "2023-01-29T12:37:57.271280",
     "status": "completed"
    },
    "tags": []
   },
   "outputs": [
    {
     "data": {
      "text/html": [
       "<div>\n",
       "<style scoped>\n",
       "    .dataframe tbody tr th:only-of-type {\n",
       "        vertical-align: middle;\n",
       "    }\n",
       "\n",
       "    .dataframe tbody tr th {\n",
       "        vertical-align: top;\n",
       "    }\n",
       "\n",
       "    .dataframe thead th {\n",
       "        text-align: right;\n",
       "    }\n",
       "</style>\n",
       "<table border=\"1\" class=\"dataframe\">\n",
       "  <thead>\n",
       "    <tr style=\"text-align: right;\">\n",
       "      <th></th>\n",
       "      <th>0</th>\n",
       "      <th>1</th>\n",
       "      <th>2</th>\n",
       "      <th>3</th>\n",
       "      <th>4</th>\n",
       "    </tr>\n",
       "  </thead>\n",
       "  <tbody>\n",
       "    <tr>\n",
       "      <th>0</th>\n",
       "      <td>Linear Regression</td>\n",
       "      <td>Random Forest Regressor</td>\n",
       "      <td>Gradient Boosting Regressor</td>\n",
       "      <td>Decision Tree Regressor</td>\n",
       "      <td>AdaBoostRegressor</td>\n",
       "    </tr>\n",
       "    <tr>\n",
       "      <th>1</th>\n",
       "      <td>0.693089</td>\n",
       "      <td>0.983855</td>\n",
       "      <td>0.921833</td>\n",
       "      <td>0.998486</td>\n",
       "      <td>0.998486</td>\n",
       "    </tr>\n",
       "    <tr>\n",
       "      <th>2</th>\n",
       "      <td>0.693089</td>\n",
       "      <td>0.983855</td>\n",
       "      <td>0.921833</td>\n",
       "      <td>0.998486</td>\n",
       "      <td>0.998486</td>\n",
       "    </tr>\n",
       "  </tbody>\n",
       "</table>\n",
       "</div>"
      ],
      "text/plain": [
       "                   0                        1                            2  \\\n",
       "0  Linear Regression  Random Forest Regressor  Gradient Boosting Regressor   \n",
       "1           0.693089                 0.983855                     0.921833   \n",
       "2           0.693089                 0.983855                     0.921833   \n",
       "\n",
       "                         3                  4  \n",
       "0  Decision Tree Regressor  AdaBoostRegressor  \n",
       "1                 0.998486           0.998486  \n",
       "2                 0.998486           0.998486  "
      ]
     },
     "execution_count": 65,
     "metadata": {},
     "output_type": "execute_result"
    }
   ],
   "source": [
    "model_names = ['Linear Regression','Random Forest Regressor','Gradient Boosting Regressor','Decision Tree Regressor','AdaBoostRegressor']\n",
    "\n",
    "scores = pd.DataFrame([model_names,score_train,score_test])\n",
    "scores"
   ]
  },
  {
   "cell_type": "code",
   "execution_count": 66,
   "id": "c0c54114",
   "metadata": {
    "execution": {
     "iopub.execute_input": "2023-01-29T12:37:57.351874Z",
     "iopub.status.busy": "2023-01-29T12:37:57.350875Z",
     "iopub.status.idle": "2023-01-29T12:37:57.356805Z",
     "shell.execute_reply": "2023-01-29T12:37:57.355813Z"
    },
    "papermill": {
     "duration": 0.031078,
     "end_time": "2023-01-29T12:37:57.359527",
     "exception": false,
     "start_time": "2023-01-29T12:37:57.328449",
     "status": "completed"
    },
    "tags": []
   },
   "outputs": [],
   "source": [
    "scores = scores.transpose()"
   ]
  },
  {
   "cell_type": "code",
   "execution_count": 67,
   "id": "cc64aff6",
   "metadata": {
    "execution": {
     "iopub.execute_input": "2023-01-29T12:37:57.403140Z",
     "iopub.status.busy": "2023-01-29T12:37:57.402717Z",
     "iopub.status.idle": "2023-01-29T12:37:57.407362Z",
     "shell.execute_reply": "2023-01-29T12:37:57.406504Z"
    },
    "papermill": {
     "duration": 0.029167,
     "end_time": "2023-01-29T12:37:57.409819",
     "exception": false,
     "start_time": "2023-01-29T12:37:57.380652",
     "status": "completed"
    },
    "tags": []
   },
   "outputs": [],
   "source": [
    "scores.columns = [ 'Model','Training Set Accuracy','Testing set Accuracy']"
   ]
  },
  {
   "cell_type": "code",
   "execution_count": 68,
   "id": "531e1975",
   "metadata": {
    "execution": {
     "iopub.execute_input": "2023-01-29T12:37:57.453439Z",
     "iopub.status.busy": "2023-01-29T12:37:57.453048Z",
     "iopub.status.idle": "2023-01-29T12:37:57.462140Z",
     "shell.execute_reply": "2023-01-29T12:37:57.461246Z"
    },
    "papermill": {
     "duration": 0.032981,
     "end_time": "2023-01-29T12:37:57.463827",
     "exception": false,
     "start_time": "2023-01-29T12:37:57.430846",
     "status": "completed"
    },
    "tags": []
   },
   "outputs": [
    {
     "data": {
      "text/html": [
       "<div>\n",
       "<style scoped>\n",
       "    .dataframe tbody tr th:only-of-type {\n",
       "        vertical-align: middle;\n",
       "    }\n",
       "\n",
       "    .dataframe tbody tr th {\n",
       "        vertical-align: top;\n",
       "    }\n",
       "\n",
       "    .dataframe thead th {\n",
       "        text-align: right;\n",
       "    }\n",
       "</style>\n",
       "<table border=\"1\" class=\"dataframe\">\n",
       "  <thead>\n",
       "    <tr style=\"text-align: right;\">\n",
       "      <th></th>\n",
       "      <th>Model</th>\n",
       "      <th>Training Set Accuracy</th>\n",
       "      <th>Testing set Accuracy</th>\n",
       "    </tr>\n",
       "  </thead>\n",
       "  <tbody>\n",
       "    <tr>\n",
       "      <th>0</th>\n",
       "      <td>Linear Regression</td>\n",
       "      <td>0.693089</td>\n",
       "      <td>0.693089</td>\n",
       "    </tr>\n",
       "    <tr>\n",
       "      <th>1</th>\n",
       "      <td>Random Forest Regressor</td>\n",
       "      <td>0.983855</td>\n",
       "      <td>0.983855</td>\n",
       "    </tr>\n",
       "    <tr>\n",
       "      <th>2</th>\n",
       "      <td>Gradient Boosting Regressor</td>\n",
       "      <td>0.921833</td>\n",
       "      <td>0.921833</td>\n",
       "    </tr>\n",
       "    <tr>\n",
       "      <th>3</th>\n",
       "      <td>Decision Tree Regressor</td>\n",
       "      <td>0.998486</td>\n",
       "      <td>0.998486</td>\n",
       "    </tr>\n",
       "    <tr>\n",
       "      <th>4</th>\n",
       "      <td>AdaBoostRegressor</td>\n",
       "      <td>0.998486</td>\n",
       "      <td>0.998486</td>\n",
       "    </tr>\n",
       "  </tbody>\n",
       "</table>\n",
       "</div>"
      ],
      "text/plain": [
       "                         Model Training Set Accuracy Testing set Accuracy\n",
       "0            Linear Regression              0.693089             0.693089\n",
       "1      Random Forest Regressor              0.983855             0.983855\n",
       "2  Gradient Boosting Regressor              0.921833             0.921833\n",
       "3      Decision Tree Regressor              0.998486             0.998486\n",
       "4            AdaBoostRegressor              0.998486             0.998486"
      ]
     },
     "execution_count": 68,
     "metadata": {},
     "output_type": "execute_result"
    }
   ],
   "source": [
    "scores"
   ]
  },
  {
   "cell_type": "code",
   "execution_count": 69,
   "id": "00674a07",
   "metadata": {
    "execution": {
     "iopub.execute_input": "2023-01-29T12:37:57.507522Z",
     "iopub.status.busy": "2023-01-29T12:37:57.507137Z",
     "iopub.status.idle": "2023-01-29T12:37:57.672971Z",
     "shell.execute_reply": "2023-01-29T12:37:57.671264Z"
    },
    "papermill": {
     "duration": 0.191027,
     "end_time": "2023-01-29T12:37:57.675976",
     "exception": false,
     "start_time": "2023-01-29T12:37:57.484949",
     "status": "completed"
    },
    "tags": []
   },
   "outputs": [
    {
     "data": {
      "text/plain": [
       "Text(0, 0.5, 'Trainig Set Accuracy')"
      ]
     },
     "execution_count": 69,
     "metadata": {},
     "output_type": "execute_result"
    },
    {
     "data": {
      "image/png": "[encoded data removed]",
      "text/plain": [
       "<Figure size 432x288 with 1 Axes>"
      ]
     },
     "metadata": {
      "needs_background": "light"
     },
     "output_type": "display_data"
    }
   ],
   "source": [
    "sns.barplot(data=scores, x='Model', y='Training Set Accuracy')\n",
    "plt.title('Accuracy for each models', size=18)\n",
    "plt.xticks(rotation=45,size=10)\n",
    "plt.xlabel('Model',size=14)\n",
    "plt.ylabel('Trainig Set Accuracy',size=14)"
   ]
  },
  {
   "cell_type": "code",
   "execution_count": 70,
   "id": "28617b7c",
   "metadata": {
    "execution": {
     "iopub.execute_input": "2023-01-29T12:37:57.720586Z",
     "iopub.status.busy": "2023-01-29T12:37:57.720216Z",
     "iopub.status.idle": "2023-01-29T12:37:57.879391Z",
     "shell.execute_reply": "2023-01-29T12:37:57.878301Z"
    },
    "papermill": {
     "duration": 0.184084,
     "end_time": "2023-01-29T12:37:57.881736",
     "exception": false,
     "start_time": "2023-01-29T12:37:57.697652",
     "status": "completed"
    },
    "tags": []
   },
   "outputs": [
    {
     "data": {
      "text/plain": [
       "Text(0, 0.5, 'Testing Set Accuracy')"
      ]
     },
     "execution_count": 70,
     "metadata": {},
     "output_type": "execute_result"
    },
    {
     "data": {
      "image/png": "[encoded data removed]",
      "text/plain": [
       "<Figure size 432x288 with 1 Axes>"
      ]
     },
     "metadata": {
      "needs_background": "light"
     },
     "output_type": "display_data"
    }
   ],
   "source": [
    "sns.barplot(data=scores, x='Model', y='Testing set Accuracy')\n",
    "plt.title('Accuracy for each models', size=18)\n",
    "plt.xticks(rotation=45,size=10)\n",
    "plt.xlabel('Model',size=14)\n",
    "plt.ylabel('Testing Set Accuracy',size=14)"
   ]
  }
 ],
 "metadata": {
  "kernelspec": {
   "display_name": "Python 3 (ipykernel)",
   "language": "python",
   "name": "python3"
  },
  "language_info": {
   "codemirror_mode": {
    "name": "ipython",
    "version": 3
   },
   "file_extension": ".py",
   "mimetype": "text/x-python",
   "name": "python",
   "nbconvert_exporter": "python",
   "pygments_lexer": "ipython3",
   "version": "3.9.12"
  },
  "papermill": {
   "default_parameters": {},
   "duration": 22.063828,
   "end_time": "2023-01-29T12:37:58.626058",
   "environment_variables": {},
   "exception": null,
   "input_path": "__notebook__.ipynb",
   "output_path": "__notebook__.ipynb",
   "parameters": {},
   "start_time": "2023-01-29T12:37:36.562230",
   "version": "2.3.4"
  }
 },
 "nbformat": 4,
 "nbformat_minor": 5
}
